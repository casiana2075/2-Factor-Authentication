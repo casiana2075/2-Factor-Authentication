{
  "cells": [
    {
      "cell_type": "markdown",
      "id": "b0eda8d0-797f-4f6b-b74d-5a253fc08ac1",
      "metadata": {
        "id": "b0eda8d0-797f-4f6b-b74d-5a253fc08ac1"
      },
      "source": [
        "# Quantum kernel estimation"
      ]
    },
    {
      "cell_type": "markdown",
      "id": "1e8d4878-f6e1-4f91-a8e7-b79a71f0a379",
      "metadata": {
        "id": "1e8d4878-f6e1-4f91-a8e7-b79a71f0a379"
      },
      "source": [
        "## Outline\n",
        "\n",
        "In this notebook we will carry out these steps several ways to make optimal use of your time on real quantum computers. We will apply a quantum kernel method to\n",
        "\n",
        "1. A single kernel matrix entry for data with relatively few features, using a real backend, so that we can easily follow what is happening at each step.\n",
        "2. An entire data set with relatively few features, using a simulated backend, so that we can see how the quantum workstream connects with classical machine learning methods"
      ]
    },
    {
      "cell_type": "markdown",
      "id": "170558ef-e0a4-4cc3-8d44-ed8777bd4e11",
      "metadata": {
        "id": "170558ef-e0a4-4cc3-8d44-ed8777bd4e11"
      },
      "source": [
        "## Install required packages"
      ]
    },
    {
      "cell_type": "code",
      "execution_count": 9,
      "id": "7e39beb2-9b9b-46f4-909d-e6005c564cc7",
      "metadata": {
        "id": "7e39beb2-9b9b-46f4-909d-e6005c564cc7",
        "outputId": "80640169-8fa0-4150-c163-4d7e200140aa",
        "colab": {
          "base_uri": "https://localhost:8080/"
        }
      },
      "outputs": [
        {
          "output_type": "stream",
          "name": "stdout",
          "text": [
            "Requirement already satisfied: panda in /usr/local/lib/python3.11/dist-packages (0.3.1)\n",
            "Requirement already satisfied: setuptools in /usr/local/lib/python3.11/dist-packages (from panda) (75.1.0)\n",
            "Requirement already satisfied: requests in /usr/local/lib/python3.11/dist-packages (from panda) (2.32.3)\n",
            "Requirement already satisfied: charset-normalizer<4,>=2 in /usr/local/lib/python3.11/dist-packages (from requests->panda) (3.4.1)\n",
            "Requirement already satisfied: idna<4,>=2.5 in /usr/local/lib/python3.11/dist-packages (from requests->panda) (3.10)\n",
            "Requirement already satisfied: urllib3<3,>=1.21.1 in /usr/local/lib/python3.11/dist-packages (from requests->panda) (2.3.0)\n",
            "Requirement already satisfied: certifi>=2017.4.17 in /usr/local/lib/python3.11/dist-packages (from requests->panda) (2025.1.31)\n"
          ]
        }
      ],
      "source": [
        "%pip install panda"
      ]
    },
    {
      "cell_type": "markdown",
      "id": "e2d3ebbc-eea8-4afe-b8d5-bf06efd2fa98",
      "metadata": {
        "id": "e2d3ebbc-eea8-4afe-b8d5-bf06efd2fa98"
      },
      "source": [
        "## Download data set"
      ]
    },
    {
      "cell_type": "code",
      "execution_count": 10,
      "id": "0b0a9e32-a0a0-4a08-afb0-dd0ec2f7fa40",
      "metadata": {
        "id": "0b0a9e32-a0a0-4a08-afb0-dd0ec2f7fa40",
        "outputId": "b074e219-53af-47a3-ab42-eea90cf6c19f",
        "colab": {
          "base_uri": "https://localhost:8080/"
        }
      },
      "outputs": [
        {
          "output_type": "stream",
          "name": "stdout",
          "text": [
            "--2025-02-27 13:07:04--  https://raw.githubusercontent.com/qiskit-community/prototype-quantum-kernel-training/main/data/dataset_graph7.csv\n",
            "Resolving raw.githubusercontent.com (raw.githubusercontent.com)... 185.199.108.133, 185.199.109.133, 185.199.110.133, ...\n",
            "Connecting to raw.githubusercontent.com (raw.githubusercontent.com)|185.199.108.133|:443... connected.\n",
            "HTTP request sent, awaiting response... 200 OK\n",
            "Length: 49405 (48K) [text/plain]\n",
            "Saving to: ‘dataset_graph7.csv.1’\n",
            "\n",
            "\rdataset_graph7.csv.   0%[                    ]       0  --.-KB/s               \rdataset_graph7.csv. 100%[===================>]  48.25K  --.-KB/s    in 0.01s   \n",
            "\n",
            "2025-02-27 13:07:04 (4.03 MB/s) - ‘dataset_graph7.csv.1’ saved [49405/49405]\n",
            "\n"
          ]
        }
      ],
      "source": [
        "# Download data set\n",
        "!wget https://raw.githubusercontent.com/qiskit-community/prototype-quantum-kernel-training/main/data/dataset_graph7.csv"
      ]
    },
    {
      "cell_type": "code",
      "execution_count": 11,
      "id": "cd2eab3d-2b32-4c39-99e5-4c8d31e60ca3",
      "metadata": {
        "id": "cd2eab3d-2b32-4c39-99e5-4c8d31e60ca3",
        "outputId": "85d053cb-76cb-4060-954a-648175d5fa0e",
        "colab": {
          "base_uri": "https://localhost:8080/",
          "height": 226
        }
      },
      "outputs": [
        {
          "output_type": "execute_result",
          "data": {
            "text/plain": [
              "         0         1         2         3         4         5         6   \\\n",
              "0 -0.193574  0.113979 -0.005927  0.300957 -0.358603 -0.087866 -0.156226   \n",
              "1 -0.100006  0.002431  0.244218  0.126870 -0.063891 -0.085588  0.072490   \n",
              "2 -1.774448 -0.047642 -0.025880  0.252708 -0.350689 -1.604509 -0.114874   \n",
              "3 -0.211585 -0.043782 -1.560226  0.018510 -0.051867 -0.128508  0.218609   \n",
              "4 -0.105965  0.208387 -0.003896  0.163816 -0.332541 -1.594675 -1.889321   \n",
              "\n",
              "         7         8         9         10        11        12        13   14  \n",
              "0  0.342442 -0.016003  0.143113  0.256422 -0.164125 -0.136743  0.014674  1.0  \n",
              "1  0.042986 -0.052714  0.019754 -0.159314 -0.409991 -0.199615  0.053845 -1.0  \n",
              "2  0.347631  0.059501 -0.168956  0.351014 -0.128586  0.098897 -0.047799  1.0  \n",
              "3 -0.075632 -0.183656 -1.715292 -0.105361 -0.300758 -0.566431  0.046542 -1.0  \n",
              "4 -0.251937  0.374445 -1.431062  0.290588  0.118851  0.048799 -0.073023  1.0  "
            ],
            "text/html": [
              "\n",
              "  <div id=\"df-e6373285-1b79-4bac-ac35-d0b20d38589e\" class=\"colab-df-container\">\n",
              "    <div>\n",
              "<style scoped>\n",
              "    .dataframe tbody tr th:only-of-type {\n",
              "        vertical-align: middle;\n",
              "    }\n",
              "\n",
              "    .dataframe tbody tr th {\n",
              "        vertical-align: top;\n",
              "    }\n",
              "\n",
              "    .dataframe thead th {\n",
              "        text-align: right;\n",
              "    }\n",
              "</style>\n",
              "<table border=\"1\" class=\"dataframe\">\n",
              "  <thead>\n",
              "    <tr style=\"text-align: right;\">\n",
              "      <th></th>\n",
              "      <th>0</th>\n",
              "      <th>1</th>\n",
              "      <th>2</th>\n",
              "      <th>3</th>\n",
              "      <th>4</th>\n",
              "      <th>5</th>\n",
              "      <th>6</th>\n",
              "      <th>7</th>\n",
              "      <th>8</th>\n",
              "      <th>9</th>\n",
              "      <th>10</th>\n",
              "      <th>11</th>\n",
              "      <th>12</th>\n",
              "      <th>13</th>\n",
              "      <th>14</th>\n",
              "    </tr>\n",
              "  </thead>\n",
              "  <tbody>\n",
              "    <tr>\n",
              "      <th>0</th>\n",
              "      <td>-0.193574</td>\n",
              "      <td>0.113979</td>\n",
              "      <td>-0.005927</td>\n",
              "      <td>0.300957</td>\n",
              "      <td>-0.358603</td>\n",
              "      <td>-0.087866</td>\n",
              "      <td>-0.156226</td>\n",
              "      <td>0.342442</td>\n",
              "      <td>-0.016003</td>\n",
              "      <td>0.143113</td>\n",
              "      <td>0.256422</td>\n",
              "      <td>-0.164125</td>\n",
              "      <td>-0.136743</td>\n",
              "      <td>0.014674</td>\n",
              "      <td>1.0</td>\n",
              "    </tr>\n",
              "    <tr>\n",
              "      <th>1</th>\n",
              "      <td>-0.100006</td>\n",
              "      <td>0.002431</td>\n",
              "      <td>0.244218</td>\n",
              "      <td>0.126870</td>\n",
              "      <td>-0.063891</td>\n",
              "      <td>-0.085588</td>\n",
              "      <td>0.072490</td>\n",
              "      <td>0.042986</td>\n",
              "      <td>-0.052714</td>\n",
              "      <td>0.019754</td>\n",
              "      <td>-0.159314</td>\n",
              "      <td>-0.409991</td>\n",
              "      <td>-0.199615</td>\n",
              "      <td>0.053845</td>\n",
              "      <td>-1.0</td>\n",
              "    </tr>\n",
              "    <tr>\n",
              "      <th>2</th>\n",
              "      <td>-1.774448</td>\n",
              "      <td>-0.047642</td>\n",
              "      <td>-0.025880</td>\n",
              "      <td>0.252708</td>\n",
              "      <td>-0.350689</td>\n",
              "      <td>-1.604509</td>\n",
              "      <td>-0.114874</td>\n",
              "      <td>0.347631</td>\n",
              "      <td>0.059501</td>\n",
              "      <td>-0.168956</td>\n",
              "      <td>0.351014</td>\n",
              "      <td>-0.128586</td>\n",
              "      <td>0.098897</td>\n",
              "      <td>-0.047799</td>\n",
              "      <td>1.0</td>\n",
              "    </tr>\n",
              "    <tr>\n",
              "      <th>3</th>\n",
              "      <td>-0.211585</td>\n",
              "      <td>-0.043782</td>\n",
              "      <td>-1.560226</td>\n",
              "      <td>0.018510</td>\n",
              "      <td>-0.051867</td>\n",
              "      <td>-0.128508</td>\n",
              "      <td>0.218609</td>\n",
              "      <td>-0.075632</td>\n",
              "      <td>-0.183656</td>\n",
              "      <td>-1.715292</td>\n",
              "      <td>-0.105361</td>\n",
              "      <td>-0.300758</td>\n",
              "      <td>-0.566431</td>\n",
              "      <td>0.046542</td>\n",
              "      <td>-1.0</td>\n",
              "    </tr>\n",
              "    <tr>\n",
              "      <th>4</th>\n",
              "      <td>-0.105965</td>\n",
              "      <td>0.208387</td>\n",
              "      <td>-0.003896</td>\n",
              "      <td>0.163816</td>\n",
              "      <td>-0.332541</td>\n",
              "      <td>-1.594675</td>\n",
              "      <td>-1.889321</td>\n",
              "      <td>-0.251937</td>\n",
              "      <td>0.374445</td>\n",
              "      <td>-1.431062</td>\n",
              "      <td>0.290588</td>\n",
              "      <td>0.118851</td>\n",
              "      <td>0.048799</td>\n",
              "      <td>-0.073023</td>\n",
              "      <td>1.0</td>\n",
              "    </tr>\n",
              "  </tbody>\n",
              "</table>\n",
              "</div>\n",
              "    <div class=\"colab-df-buttons\">\n",
              "\n",
              "  <div class=\"colab-df-container\">\n",
              "    <button class=\"colab-df-convert\" onclick=\"convertToInteractive('df-e6373285-1b79-4bac-ac35-d0b20d38589e')\"\n",
              "            title=\"Convert this dataframe to an interactive table.\"\n",
              "            style=\"display:none;\">\n",
              "\n",
              "  <svg xmlns=\"http://www.w3.org/2000/svg\" height=\"24px\" viewBox=\"0 -960 960 960\">\n",
              "    <path d=\"M120-120v-720h720v720H120Zm60-500h600v-160H180v160Zm220 220h160v-160H400v160Zm0 220h160v-160H400v160ZM180-400h160v-160H180v160Zm440 0h160v-160H620v160ZM180-180h160v-160H180v160Zm440 0h160v-160H620v160Z\"/>\n",
              "  </svg>\n",
              "    </button>\n",
              "\n",
              "  <style>\n",
              "    .colab-df-container {\n",
              "      display:flex;\n",
              "      gap: 12px;\n",
              "    }\n",
              "\n",
              "    .colab-df-convert {\n",
              "      background-color: #E8F0FE;\n",
              "      border: none;\n",
              "      border-radius: 50%;\n",
              "      cursor: pointer;\n",
              "      display: none;\n",
              "      fill: #1967D2;\n",
              "      height: 32px;\n",
              "      padding: 0 0 0 0;\n",
              "      width: 32px;\n",
              "    }\n",
              "\n",
              "    .colab-df-convert:hover {\n",
              "      background-color: #E2EBFA;\n",
              "      box-shadow: 0px 1px 2px rgba(60, 64, 67, 0.3), 0px 1px 3px 1px rgba(60, 64, 67, 0.15);\n",
              "      fill: #174EA6;\n",
              "    }\n",
              "\n",
              "    .colab-df-buttons div {\n",
              "      margin-bottom: 4px;\n",
              "    }\n",
              "\n",
              "    [theme=dark] .colab-df-convert {\n",
              "      background-color: #3B4455;\n",
              "      fill: #D2E3FC;\n",
              "    }\n",
              "\n",
              "    [theme=dark] .colab-df-convert:hover {\n",
              "      background-color: #434B5C;\n",
              "      box-shadow: 0px 1px 3px 1px rgba(0, 0, 0, 0.15);\n",
              "      filter: drop-shadow(0px 1px 2px rgba(0, 0, 0, 0.3));\n",
              "      fill: #FFFFFF;\n",
              "    }\n",
              "  </style>\n",
              "\n",
              "    <script>\n",
              "      const buttonEl =\n",
              "        document.querySelector('#df-e6373285-1b79-4bac-ac35-d0b20d38589e button.colab-df-convert');\n",
              "      buttonEl.style.display =\n",
              "        google.colab.kernel.accessAllowed ? 'block' : 'none';\n",
              "\n",
              "      async function convertToInteractive(key) {\n",
              "        const element = document.querySelector('#df-e6373285-1b79-4bac-ac35-d0b20d38589e');\n",
              "        const dataTable =\n",
              "          await google.colab.kernel.invokeFunction('convertToInteractive',\n",
              "                                                    [key], {});\n",
              "        if (!dataTable) return;\n",
              "\n",
              "        const docLinkHtml = 'Like what you see? Visit the ' +\n",
              "          '<a target=\"_blank\" href=https://colab.research.google.com/notebooks/data_table.ipynb>data table notebook</a>'\n",
              "          + ' to learn more about interactive tables.';\n",
              "        element.innerHTML = '';\n",
              "        dataTable['output_type'] = 'display_data';\n",
              "        await google.colab.output.renderOutput(dataTable, element);\n",
              "        const docLink = document.createElement('div');\n",
              "        docLink.innerHTML = docLinkHtml;\n",
              "        element.appendChild(docLink);\n",
              "      }\n",
              "    </script>\n",
              "  </div>\n",
              "\n",
              "\n",
              "<div id=\"df-908c6857-c49a-4508-bf91-c8e9ad44d04c\">\n",
              "  <button class=\"colab-df-quickchart\" onclick=\"quickchart('df-908c6857-c49a-4508-bf91-c8e9ad44d04c')\"\n",
              "            title=\"Suggest charts\"\n",
              "            style=\"display:none;\">\n",
              "\n",
              "<svg xmlns=\"http://www.w3.org/2000/svg\" height=\"24px\"viewBox=\"0 0 24 24\"\n",
              "     width=\"24px\">\n",
              "    <g>\n",
              "        <path d=\"M19 3H5c-1.1 0-2 .9-2 2v14c0 1.1.9 2 2 2h14c1.1 0 2-.9 2-2V5c0-1.1-.9-2-2-2zM9 17H7v-7h2v7zm4 0h-2V7h2v10zm4 0h-2v-4h2v4z\"/>\n",
              "    </g>\n",
              "</svg>\n",
              "  </button>\n",
              "\n",
              "<style>\n",
              "  .colab-df-quickchart {\n",
              "      --bg-color: #E8F0FE;\n",
              "      --fill-color: #1967D2;\n",
              "      --hover-bg-color: #E2EBFA;\n",
              "      --hover-fill-color: #174EA6;\n",
              "      --disabled-fill-color: #AAA;\n",
              "      --disabled-bg-color: #DDD;\n",
              "  }\n",
              "\n",
              "  [theme=dark] .colab-df-quickchart {\n",
              "      --bg-color: #3B4455;\n",
              "      --fill-color: #D2E3FC;\n",
              "      --hover-bg-color: #434B5C;\n",
              "      --hover-fill-color: #FFFFFF;\n",
              "      --disabled-bg-color: #3B4455;\n",
              "      --disabled-fill-color: #666;\n",
              "  }\n",
              "\n",
              "  .colab-df-quickchart {\n",
              "    background-color: var(--bg-color);\n",
              "    border: none;\n",
              "    border-radius: 50%;\n",
              "    cursor: pointer;\n",
              "    display: none;\n",
              "    fill: var(--fill-color);\n",
              "    height: 32px;\n",
              "    padding: 0;\n",
              "    width: 32px;\n",
              "  }\n",
              "\n",
              "  .colab-df-quickchart:hover {\n",
              "    background-color: var(--hover-bg-color);\n",
              "    box-shadow: 0 1px 2px rgba(60, 64, 67, 0.3), 0 1px 3px 1px rgba(60, 64, 67, 0.15);\n",
              "    fill: var(--button-hover-fill-color);\n",
              "  }\n",
              "\n",
              "  .colab-df-quickchart-complete:disabled,\n",
              "  .colab-df-quickchart-complete:disabled:hover {\n",
              "    background-color: var(--disabled-bg-color);\n",
              "    fill: var(--disabled-fill-color);\n",
              "    box-shadow: none;\n",
              "  }\n",
              "\n",
              "  .colab-df-spinner {\n",
              "    border: 2px solid var(--fill-color);\n",
              "    border-color: transparent;\n",
              "    border-bottom-color: var(--fill-color);\n",
              "    animation:\n",
              "      spin 1s steps(1) infinite;\n",
              "  }\n",
              "\n",
              "  @keyframes spin {\n",
              "    0% {\n",
              "      border-color: transparent;\n",
              "      border-bottom-color: var(--fill-color);\n",
              "      border-left-color: var(--fill-color);\n",
              "    }\n",
              "    20% {\n",
              "      border-color: transparent;\n",
              "      border-left-color: var(--fill-color);\n",
              "      border-top-color: var(--fill-color);\n",
              "    }\n",
              "    30% {\n",
              "      border-color: transparent;\n",
              "      border-left-color: var(--fill-color);\n",
              "      border-top-color: var(--fill-color);\n",
              "      border-right-color: var(--fill-color);\n",
              "    }\n",
              "    40% {\n",
              "      border-color: transparent;\n",
              "      border-right-color: var(--fill-color);\n",
              "      border-top-color: var(--fill-color);\n",
              "    }\n",
              "    60% {\n",
              "      border-color: transparent;\n",
              "      border-right-color: var(--fill-color);\n",
              "    }\n",
              "    80% {\n",
              "      border-color: transparent;\n",
              "      border-right-color: var(--fill-color);\n",
              "      border-bottom-color: var(--fill-color);\n",
              "    }\n",
              "    90% {\n",
              "      border-color: transparent;\n",
              "      border-bottom-color: var(--fill-color);\n",
              "    }\n",
              "  }\n",
              "</style>\n",
              "\n",
              "  <script>\n",
              "    async function quickchart(key) {\n",
              "      const quickchartButtonEl =\n",
              "        document.querySelector('#' + key + ' button');\n",
              "      quickchartButtonEl.disabled = true;  // To prevent multiple clicks.\n",
              "      quickchartButtonEl.classList.add('colab-df-spinner');\n",
              "      try {\n",
              "        const charts = await google.colab.kernel.invokeFunction(\n",
              "            'suggestCharts', [key], {});\n",
              "      } catch (error) {\n",
              "        console.error('Error during call to suggestCharts:', error);\n",
              "      }\n",
              "      quickchartButtonEl.classList.remove('colab-df-spinner');\n",
              "      quickchartButtonEl.classList.add('colab-df-quickchart-complete');\n",
              "    }\n",
              "    (() => {\n",
              "      let quickchartButtonEl =\n",
              "        document.querySelector('#df-908c6857-c49a-4508-bf91-c8e9ad44d04c button');\n",
              "      quickchartButtonEl.style.display =\n",
              "        google.colab.kernel.accessAllowed ? 'block' : 'none';\n",
              "    })();\n",
              "  </script>\n",
              "</div>\n",
              "\n",
              "    </div>\n",
              "  </div>\n"
            ],
            "application/vnd.google.colaboratory.intrinsic+json": {
              "type": "dataframe",
              "variable_name": "df",
              "summary": "{\n  \"name\": \"df\",\n  \"rows\": 128,\n  \"fields\": [\n    {\n      \"column\": 0,\n      \"properties\": {\n        \"dtype\": \"number\",\n        \"std\": 0.7822513363597474,\n        \"min\": -1.957458263369452,\n        \"max\": 0.12402117005893055,\n        \"num_unique_values\": 128,\n        \"samples\": [\n          -0.046122239267532096,\n          -0.20538489899192852,\n          -0.02835840568649771\n        ],\n        \"semantic_type\": \"\",\n        \"description\": \"\"\n      }\n    },\n    {\n      \"column\": 1,\n      \"properties\": {\n        \"dtype\": \"number\",\n        \"std\": 0.7956978522913607,\n        \"min\": -1.9010572422398724,\n        \"max\": 0.3284108220258633,\n        \"num_unique_values\": 128,\n        \"samples\": [\n          -1.4919679592907649,\n          -1.3234986799209365,\n          -0.21462857355816128\n        ],\n        \"semantic_type\": \"\",\n        \"description\": \"\"\n      }\n    },\n    {\n      \"column\": 2,\n      \"properties\": {\n        \"dtype\": \"number\",\n        \"std\": 0.7155949765850526,\n        \"min\": -1.7644486943469673,\n        \"max\": 0.24421757293830904,\n        \"num_unique_values\": 128,\n        \"samples\": [\n          -1.5575137523379767,\n          0.16005946006892324,\n          -1.5796106043037763\n        ],\n        \"semantic_type\": \"\",\n        \"description\": \"\"\n      }\n    },\n    {\n      \"column\": 3,\n      \"properties\": {\n        \"dtype\": \"number\",\n        \"std\": 0.6251469074163275,\n        \"min\": -1.6003202134096304,\n        \"max\": 0.38866859637121426,\n        \"num_unique_values\": 128,\n        \"samples\": [\n          -0.0532092025498417,\n          0.21275309711908544,\n          0.01664476210172569\n        ],\n        \"semantic_type\": \"\",\n        \"description\": \"\"\n      }\n    },\n    {\n      \"column\": 4,\n      \"properties\": {\n        \"dtype\": \"number\",\n        \"std\": 0.7853461094686452,\n        \"min\": -1.9383625429124929,\n        \"max\": 0.20506894636261497,\n        \"num_unique_values\": 128,\n        \"samples\": [\n          -1.565674533919902,\n          -1.8129745381829916,\n          -0.05099273752013009\n        ],\n        \"semantic_type\": \"\",\n        \"description\": \"\"\n      }\n    },\n    {\n      \"column\": 5,\n      \"properties\": {\n        \"dtype\": \"number\",\n        \"std\": 0.8007496813418485,\n        \"min\": -1.8580986247174585,\n        \"max\": 0.2623612216276595,\n        \"num_unique_values\": 128,\n        \"samples\": [\n          -0.00693362092174049,\n          -0.09828391746720833,\n          -1.7259496100739795\n        ],\n        \"semantic_type\": \"\",\n        \"description\": \"\"\n      }\n    },\n    {\n      \"column\": 6,\n      \"properties\": {\n        \"dtype\": \"number\",\n        \"std\": 0.8227820416258608,\n        \"min\": -2.0069209968234456,\n        \"max\": 0.4407797109396911,\n        \"num_unique_values\": 128,\n        \"samples\": [\n          -1.4367434433400903,\n          -0.3237482397158925,\n          -1.467398823985592\n        ],\n        \"semantic_type\": \"\",\n        \"description\": \"\"\n      }\n    },\n    {\n      \"column\": 7,\n      \"properties\": {\n        \"dtype\": \"number\",\n        \"std\": 0.8099985879832339,\n        \"min\": -1.9886378647456768,\n        \"max\": 0.4024445837550703,\n        \"num_unique_values\": 128,\n        \"samples\": [\n          -1.4830342653104407,\n          -1.3761076709494564,\n          0.09482147057008568\n        ],\n        \"semantic_type\": \"\",\n        \"description\": \"\"\n      }\n    },\n    {\n      \"column\": 8,\n      \"properties\": {\n        \"dtype\": \"number\",\n        \"std\": 0.6340540892653496,\n        \"min\": -1.660121345876027,\n        \"max\": 0.37444454018965784,\n        \"num_unique_values\": 128,\n        \"samples\": [\n          -0.19587935617443128,\n          0.1857257065594705,\n          -0.031865903551896266\n        ],\n        \"semantic_type\": \"\",\n        \"description\": \"\"\n      }\n    },\n    {\n      \"column\": 9,\n      \"properties\": {\n        \"dtype\": \"number\",\n        \"std\": 0.7991609961961167,\n        \"min\": -1.8320125908041325,\n        \"max\": 0.2130393423176968,\n        \"num_unique_values\": 128,\n        \"samples\": [\n          -0.05822026887820265,\n          -1.5362613102360823,\n          -0.04781462003049682\n        ],\n        \"semantic_type\": \"\",\n        \"description\": \"\"\n      }\n    },\n    {\n      \"column\": 10,\n      \"properties\": {\n        \"dtype\": \"number\",\n        \"std\": 0.8004705844314841,\n        \"min\": -1.8727678881660503,\n        \"max\": 0.549818305955266,\n        \"num_unique_values\": 128,\n        \"samples\": [\n          -1.7494751009389082,\n          0.3252889388876295,\n          -0.3124998176502555\n        ],\n        \"semantic_type\": \"\",\n        \"description\": \"\"\n      }\n    },\n    {\n      \"column\": 11,\n      \"properties\": {\n        \"dtype\": \"number\",\n        \"std\": 0.8178558935547597,\n        \"min\": -2.1276796336370056,\n        \"max\": 0.5929477893373876,\n        \"num_unique_values\": 128,\n        \"samples\": [\n          -1.3672042863445348,\n          -1.582426747967575,\n          -0.27566194790407766\n        ],\n        \"semantic_type\": \"\",\n        \"description\": \"\"\n      }\n    },\n    {\n      \"column\": 12,\n      \"properties\": {\n        \"dtype\": \"number\",\n        \"std\": 0.8129521334635492,\n        \"min\": -1.955366473810422,\n        \"max\": 0.18132547866231405,\n        \"num_unique_values\": 128,\n        \"samples\": [\n          -0.03377935618256747,\n          -1.6443939729184311,\n          -0.28325584097561046\n        ],\n        \"semantic_type\": \"\",\n        \"description\": \"\"\n      }\n    },\n    {\n      \"column\": 13,\n      \"properties\": {\n        \"dtype\": \"number\",\n        \"std\": 0.6925031547509912,\n        \"min\": -1.7486671420644664,\n        \"max\": 0.3423808630989662,\n        \"num_unique_values\": 128,\n        \"samples\": [\n          0.11922020871375855,\n          -0.07704793882180767,\n          0.16191232523245\n        ],\n        \"semantic_type\": \"\",\n        \"description\": \"\"\n      }\n    },\n    {\n      \"column\": 14,\n      \"properties\": {\n        \"dtype\": \"number\",\n        \"std\": 1.0039292882210538,\n        \"min\": -1.0,\n        \"max\": 1.0,\n        \"num_unique_values\": 2,\n        \"samples\": [\n          -1.0,\n          1.0\n        ],\n        \"semantic_type\": \"\",\n        \"description\": \"\"\n      }\n    }\n  ]\n}"
            }
          },
          "metadata": {},
          "execution_count": 11
        }
      ],
      "source": [
        "import pandas as pd\n",
        "df = pd.read_csv(\"dataset_graph7.csv\", sep=\",\", header=None)\n",
        "df.head()"
      ]
    },
    {
      "cell_type": "markdown",
      "id": "449232bc-25b5-4504-ad69-4681ea4b5b1e",
      "metadata": {
        "id": "449232bc-25b5-4504-ad69-4681ea4b5b1e"
      },
      "source": [
        "## Single kernel matrix entry"
      ]
    },
    {
      "cell_type": "markdown",
      "id": "28992c61-8cb5-46ad-bba2-66a038b3ac80",
      "metadata": {
        "id": "28992c61-8cb5-46ad-bba2-66a038b3ac80"
      },
      "source": [
        "### Step 1: Map classical inputs to a quantum problem\n",
        "\n",
        "Let's look at the first two data points, which is the minimal needed for calculating the kernel matrix."
      ]
    },
    {
      "cell_type": "code",
      "execution_count": 12,
      "id": "a1a3bec9-f68c-4b8a-90a5-b800202ea149",
      "metadata": {
        "id": "a1a3bec9-f68c-4b8a-90a5-b800202ea149",
        "outputId": "ac0fcf0c-492d-4647-9b33-cb5f1e98fc0d",
        "colab": {
          "base_uri": "https://localhost:8080/",
          "height": 145
        }
      },
      "outputs": [
        {
          "output_type": "execute_result",
          "data": {
            "text/plain": [
              "         0         1         2         3         4         5         6   \\\n",
              "0 -0.193574  0.113979 -0.005927  0.300957 -0.358603 -0.087866 -0.156226   \n",
              "1 -0.100006  0.002431  0.244218  0.126870 -0.063891 -0.085588  0.072490   \n",
              "\n",
              "         7         8         9         10        11        12        13   14  \n",
              "0  0.342442 -0.016003  0.143113  0.256422 -0.164125 -0.136743  0.014674  1.0  \n",
              "1  0.042986 -0.052714  0.019754 -0.159314 -0.409991 -0.199615  0.053845 -1.0  "
            ],
            "text/html": [
              "\n",
              "  <div id=\"df-962594db-ef84-403b-b069-1709b5e2e42b\" class=\"colab-df-container\">\n",
              "    <div>\n",
              "<style scoped>\n",
              "    .dataframe tbody tr th:only-of-type {\n",
              "        vertical-align: middle;\n",
              "    }\n",
              "\n",
              "    .dataframe tbody tr th {\n",
              "        vertical-align: top;\n",
              "    }\n",
              "\n",
              "    .dataframe thead th {\n",
              "        text-align: right;\n",
              "    }\n",
              "</style>\n",
              "<table border=\"1\" class=\"dataframe\">\n",
              "  <thead>\n",
              "    <tr style=\"text-align: right;\">\n",
              "      <th></th>\n",
              "      <th>0</th>\n",
              "      <th>1</th>\n",
              "      <th>2</th>\n",
              "      <th>3</th>\n",
              "      <th>4</th>\n",
              "      <th>5</th>\n",
              "      <th>6</th>\n",
              "      <th>7</th>\n",
              "      <th>8</th>\n",
              "      <th>9</th>\n",
              "      <th>10</th>\n",
              "      <th>11</th>\n",
              "      <th>12</th>\n",
              "      <th>13</th>\n",
              "      <th>14</th>\n",
              "    </tr>\n",
              "  </thead>\n",
              "  <tbody>\n",
              "    <tr>\n",
              "      <th>0</th>\n",
              "      <td>-0.193574</td>\n",
              "      <td>0.113979</td>\n",
              "      <td>-0.005927</td>\n",
              "      <td>0.300957</td>\n",
              "      <td>-0.358603</td>\n",
              "      <td>-0.087866</td>\n",
              "      <td>-0.156226</td>\n",
              "      <td>0.342442</td>\n",
              "      <td>-0.016003</td>\n",
              "      <td>0.143113</td>\n",
              "      <td>0.256422</td>\n",
              "      <td>-0.164125</td>\n",
              "      <td>-0.136743</td>\n",
              "      <td>0.014674</td>\n",
              "      <td>1.0</td>\n",
              "    </tr>\n",
              "    <tr>\n",
              "      <th>1</th>\n",
              "      <td>-0.100006</td>\n",
              "      <td>0.002431</td>\n",
              "      <td>0.244218</td>\n",
              "      <td>0.126870</td>\n",
              "      <td>-0.063891</td>\n",
              "      <td>-0.085588</td>\n",
              "      <td>0.072490</td>\n",
              "      <td>0.042986</td>\n",
              "      <td>-0.052714</td>\n",
              "      <td>0.019754</td>\n",
              "      <td>-0.159314</td>\n",
              "      <td>-0.409991</td>\n",
              "      <td>-0.199615</td>\n",
              "      <td>0.053845</td>\n",
              "      <td>-1.0</td>\n",
              "    </tr>\n",
              "  </tbody>\n",
              "</table>\n",
              "</div>\n",
              "    <div class=\"colab-df-buttons\">\n",
              "\n",
              "  <div class=\"colab-df-container\">\n",
              "    <button class=\"colab-df-convert\" onclick=\"convertToInteractive('df-962594db-ef84-403b-b069-1709b5e2e42b')\"\n",
              "            title=\"Convert this dataframe to an interactive table.\"\n",
              "            style=\"display:none;\">\n",
              "\n",
              "  <svg xmlns=\"http://www.w3.org/2000/svg\" height=\"24px\" viewBox=\"0 -960 960 960\">\n",
              "    <path d=\"M120-120v-720h720v720H120Zm60-500h600v-160H180v160Zm220 220h160v-160H400v160Zm0 220h160v-160H400v160ZM180-400h160v-160H180v160Zm440 0h160v-160H620v160ZM180-180h160v-160H180v160Zm440 0h160v-160H620v160Z\"/>\n",
              "  </svg>\n",
              "    </button>\n",
              "\n",
              "  <style>\n",
              "    .colab-df-container {\n",
              "      display:flex;\n",
              "      gap: 12px;\n",
              "    }\n",
              "\n",
              "    .colab-df-convert {\n",
              "      background-color: #E8F0FE;\n",
              "      border: none;\n",
              "      border-radius: 50%;\n",
              "      cursor: pointer;\n",
              "      display: none;\n",
              "      fill: #1967D2;\n",
              "      height: 32px;\n",
              "      padding: 0 0 0 0;\n",
              "      width: 32px;\n",
              "    }\n",
              "\n",
              "    .colab-df-convert:hover {\n",
              "      background-color: #E2EBFA;\n",
              "      box-shadow: 0px 1px 2px rgba(60, 64, 67, 0.3), 0px 1px 3px 1px rgba(60, 64, 67, 0.15);\n",
              "      fill: #174EA6;\n",
              "    }\n",
              "\n",
              "    .colab-df-buttons div {\n",
              "      margin-bottom: 4px;\n",
              "    }\n",
              "\n",
              "    [theme=dark] .colab-df-convert {\n",
              "      background-color: #3B4455;\n",
              "      fill: #D2E3FC;\n",
              "    }\n",
              "\n",
              "    [theme=dark] .colab-df-convert:hover {\n",
              "      background-color: #434B5C;\n",
              "      box-shadow: 0px 1px 3px 1px rgba(0, 0, 0, 0.15);\n",
              "      filter: drop-shadow(0px 1px 2px rgba(0, 0, 0, 0.3));\n",
              "      fill: #FFFFFF;\n",
              "    }\n",
              "  </style>\n",
              "\n",
              "    <script>\n",
              "      const buttonEl =\n",
              "        document.querySelector('#df-962594db-ef84-403b-b069-1709b5e2e42b button.colab-df-convert');\n",
              "      buttonEl.style.display =\n",
              "        google.colab.kernel.accessAllowed ? 'block' : 'none';\n",
              "\n",
              "      async function convertToInteractive(key) {\n",
              "        const element = document.querySelector('#df-962594db-ef84-403b-b069-1709b5e2e42b');\n",
              "        const dataTable =\n",
              "          await google.colab.kernel.invokeFunction('convertToInteractive',\n",
              "                                                    [key], {});\n",
              "        if (!dataTable) return;\n",
              "\n",
              "        const docLinkHtml = 'Like what you see? Visit the ' +\n",
              "          '<a target=\"_blank\" href=https://colab.research.google.com/notebooks/data_table.ipynb>data table notebook</a>'\n",
              "          + ' to learn more about interactive tables.';\n",
              "        element.innerHTML = '';\n",
              "        dataTable['output_type'] = 'display_data';\n",
              "        await google.colab.output.renderOutput(dataTable, element);\n",
              "        const docLink = document.createElement('div');\n",
              "        docLink.innerHTML = docLinkHtml;\n",
              "        element.appendChild(docLink);\n",
              "      }\n",
              "    </script>\n",
              "  </div>\n",
              "\n",
              "\n",
              "<div id=\"df-9f4cee2e-b0e1-414c-9355-6ba54c21940c\">\n",
              "  <button class=\"colab-df-quickchart\" onclick=\"quickchart('df-9f4cee2e-b0e1-414c-9355-6ba54c21940c')\"\n",
              "            title=\"Suggest charts\"\n",
              "            style=\"display:none;\">\n",
              "\n",
              "<svg xmlns=\"http://www.w3.org/2000/svg\" height=\"24px\"viewBox=\"0 0 24 24\"\n",
              "     width=\"24px\">\n",
              "    <g>\n",
              "        <path d=\"M19 3H5c-1.1 0-2 .9-2 2v14c0 1.1.9 2 2 2h14c1.1 0 2-.9 2-2V5c0-1.1-.9-2-2-2zM9 17H7v-7h2v7zm4 0h-2V7h2v10zm4 0h-2v-4h2v4z\"/>\n",
              "    </g>\n",
              "</svg>\n",
              "  </button>\n",
              "\n",
              "<style>\n",
              "  .colab-df-quickchart {\n",
              "      --bg-color: #E8F0FE;\n",
              "      --fill-color: #1967D2;\n",
              "      --hover-bg-color: #E2EBFA;\n",
              "      --hover-fill-color: #174EA6;\n",
              "      --disabled-fill-color: #AAA;\n",
              "      --disabled-bg-color: #DDD;\n",
              "  }\n",
              "\n",
              "  [theme=dark] .colab-df-quickchart {\n",
              "      --bg-color: #3B4455;\n",
              "      --fill-color: #D2E3FC;\n",
              "      --hover-bg-color: #434B5C;\n",
              "      --hover-fill-color: #FFFFFF;\n",
              "      --disabled-bg-color: #3B4455;\n",
              "      --disabled-fill-color: #666;\n",
              "  }\n",
              "\n",
              "  .colab-df-quickchart {\n",
              "    background-color: var(--bg-color);\n",
              "    border: none;\n",
              "    border-radius: 50%;\n",
              "    cursor: pointer;\n",
              "    display: none;\n",
              "    fill: var(--fill-color);\n",
              "    height: 32px;\n",
              "    padding: 0;\n",
              "    width: 32px;\n",
              "  }\n",
              "\n",
              "  .colab-df-quickchart:hover {\n",
              "    background-color: var(--hover-bg-color);\n",
              "    box-shadow: 0 1px 2px rgba(60, 64, 67, 0.3), 0 1px 3px 1px rgba(60, 64, 67, 0.15);\n",
              "    fill: var(--button-hover-fill-color);\n",
              "  }\n",
              "\n",
              "  .colab-df-quickchart-complete:disabled,\n",
              "  .colab-df-quickchart-complete:disabled:hover {\n",
              "    background-color: var(--disabled-bg-color);\n",
              "    fill: var(--disabled-fill-color);\n",
              "    box-shadow: none;\n",
              "  }\n",
              "\n",
              "  .colab-df-spinner {\n",
              "    border: 2px solid var(--fill-color);\n",
              "    border-color: transparent;\n",
              "    border-bottom-color: var(--fill-color);\n",
              "    animation:\n",
              "      spin 1s steps(1) infinite;\n",
              "  }\n",
              "\n",
              "  @keyframes spin {\n",
              "    0% {\n",
              "      border-color: transparent;\n",
              "      border-bottom-color: var(--fill-color);\n",
              "      border-left-color: var(--fill-color);\n",
              "    }\n",
              "    20% {\n",
              "      border-color: transparent;\n",
              "      border-left-color: var(--fill-color);\n",
              "      border-top-color: var(--fill-color);\n",
              "    }\n",
              "    30% {\n",
              "      border-color: transparent;\n",
              "      border-left-color: var(--fill-color);\n",
              "      border-top-color: var(--fill-color);\n",
              "      border-right-color: var(--fill-color);\n",
              "    }\n",
              "    40% {\n",
              "      border-color: transparent;\n",
              "      border-right-color: var(--fill-color);\n",
              "      border-top-color: var(--fill-color);\n",
              "    }\n",
              "    60% {\n",
              "      border-color: transparent;\n",
              "      border-right-color: var(--fill-color);\n",
              "    }\n",
              "    80% {\n",
              "      border-color: transparent;\n",
              "      border-right-color: var(--fill-color);\n",
              "      border-bottom-color: var(--fill-color);\n",
              "    }\n",
              "    90% {\n",
              "      border-color: transparent;\n",
              "      border-bottom-color: var(--fill-color);\n",
              "    }\n",
              "  }\n",
              "</style>\n",
              "\n",
              "  <script>\n",
              "    async function quickchart(key) {\n",
              "      const quickchartButtonEl =\n",
              "        document.querySelector('#' + key + ' button');\n",
              "      quickchartButtonEl.disabled = true;  // To prevent multiple clicks.\n",
              "      quickchartButtonEl.classList.add('colab-df-spinner');\n",
              "      try {\n",
              "        const charts = await google.colab.kernel.invokeFunction(\n",
              "            'suggestCharts', [key], {});\n",
              "      } catch (error) {\n",
              "        console.error('Error during call to suggestCharts:', error);\n",
              "      }\n",
              "      quickchartButtonEl.classList.remove('colab-df-spinner');\n",
              "      quickchartButtonEl.classList.add('colab-df-quickchart-complete');\n",
              "    }\n",
              "    (() => {\n",
              "      let quickchartButtonEl =\n",
              "        document.querySelector('#df-9f4cee2e-b0e1-414c-9355-6ba54c21940c button');\n",
              "      quickchartButtonEl.style.display =\n",
              "        google.colab.kernel.accessAllowed ? 'block' : 'none';\n",
              "    })();\n",
              "  </script>\n",
              "</div>\n",
              "\n",
              "  <div id=\"id_d6b0dad7-c8d2-4b44-864c-b0d7facc5164\">\n",
              "    <style>\n",
              "      .colab-df-generate {\n",
              "        background-color: #E8F0FE;\n",
              "        border: none;\n",
              "        border-radius: 50%;\n",
              "        cursor: pointer;\n",
              "        display: none;\n",
              "        fill: #1967D2;\n",
              "        height: 32px;\n",
              "        padding: 0 0 0 0;\n",
              "        width: 32px;\n",
              "      }\n",
              "\n",
              "      .colab-df-generate:hover {\n",
              "        background-color: #E2EBFA;\n",
              "        box-shadow: 0px 1px 2px rgba(60, 64, 67, 0.3), 0px 1px 3px 1px rgba(60, 64, 67, 0.15);\n",
              "        fill: #174EA6;\n",
              "      }\n",
              "\n",
              "      [theme=dark] .colab-df-generate {\n",
              "        background-color: #3B4455;\n",
              "        fill: #D2E3FC;\n",
              "      }\n",
              "\n",
              "      [theme=dark] .colab-df-generate:hover {\n",
              "        background-color: #434B5C;\n",
              "        box-shadow: 0px 1px 3px 1px rgba(0, 0, 0, 0.15);\n",
              "        filter: drop-shadow(0px 1px 2px rgba(0, 0, 0, 0.3));\n",
              "        fill: #FFFFFF;\n",
              "      }\n",
              "    </style>\n",
              "    <button class=\"colab-df-generate\" onclick=\"generateWithVariable('small_data')\"\n",
              "            title=\"Generate code using this dataframe.\"\n",
              "            style=\"display:none;\">\n",
              "\n",
              "  <svg xmlns=\"http://www.w3.org/2000/svg\" height=\"24px\"viewBox=\"0 0 24 24\"\n",
              "       width=\"24px\">\n",
              "    <path d=\"M7,19H8.4L18.45,9,17,7.55,7,17.6ZM5,21V16.75L18.45,3.32a2,2,0,0,1,2.83,0l1.4,1.43a1.91,1.91,0,0,1,.58,1.4,1.91,1.91,0,0,1-.58,1.4L9.25,21ZM18.45,9,17,7.55Zm-12,3A5.31,5.31,0,0,0,4.9,8.1,5.31,5.31,0,0,0,1,6.5,5.31,5.31,0,0,0,4.9,4.9,5.31,5.31,0,0,0,6.5,1,5.31,5.31,0,0,0,8.1,4.9,5.31,5.31,0,0,0,12,6.5,5.46,5.46,0,0,0,6.5,12Z\"/>\n",
              "  </svg>\n",
              "    </button>\n",
              "    <script>\n",
              "      (() => {\n",
              "      const buttonEl =\n",
              "        document.querySelector('#id_d6b0dad7-c8d2-4b44-864c-b0d7facc5164 button.colab-df-generate');\n",
              "      buttonEl.style.display =\n",
              "        google.colab.kernel.accessAllowed ? 'block' : 'none';\n",
              "\n",
              "      buttonEl.onclick = () => {\n",
              "        google.colab.notebook.generateWithVariable('small_data');\n",
              "      }\n",
              "      })();\n",
              "    </script>\n",
              "  </div>\n",
              "\n",
              "    </div>\n",
              "  </div>\n"
            ],
            "application/vnd.google.colaboratory.intrinsic+json": {
              "type": "dataframe",
              "variable_name": "small_data",
              "summary": "{\n  \"name\": \"small_data\",\n  \"rows\": 2,\n  \"fields\": [\n    {\n      \"column\": 0,\n      \"properties\": {\n        \"dtype\": \"number\",\n        \"std\": 0.06616272589821398,\n        \"min\": -0.19357447899810315,\n        \"max\": -0.10000625470927532,\n        \"num_unique_values\": 2,\n        \"samples\": [\n          -0.10000625470927532,\n          -0.19357447899810315\n        ],\n        \"semantic_type\": \"\",\n        \"description\": \"\"\n      }\n    },\n    {\n      \"column\": 1,\n      \"properties\": {\n        \"dtype\": \"number\",\n        \"std\": 0.07887657664120078,\n        \"min\": 0.0024308307042361643,\n        \"max\": 0.11397915514378316,\n        \"num_unique_values\": 2,\n        \"samples\": [\n          0.0024308307042361643,\n          0.11397915514378316\n        ],\n        \"semantic_type\": \"\",\n        \"description\": \"\"\n      }\n    },\n    {\n      \"column\": 2,\n      \"properties\": {\n        \"dtype\": \"number\",\n        \"std\": 0.17687873418508707,\n        \"min\": -0.005926731841626676,\n        \"max\": 0.24421757293830904,\n        \"num_unique_values\": 2,\n        \"samples\": [\n          0.24421757293830904,\n          -0.005926731841626676\n        ],\n        \"semantic_type\": \"\",\n        \"description\": \"\"\n      }\n    },\n    {\n      \"column\": 3,\n      \"properties\": {\n        \"dtype\": \"number\",\n        \"std\": 0.1230982832310006,\n        \"min\": 0.12686990511678395,\n        \"max\": 0.30095716676690953,\n        \"num_unique_values\": 2,\n        \"samples\": [\n          0.12686990511678395,\n          0.30095716676690953\n        ],\n        \"semantic_type\": \"\",\n        \"description\": \"\"\n      }\n    },\n    {\n      \"column\": 4,\n      \"properties\": {\n        \"dtype\": \"number\",\n        \"std\": 0.20839293847057958,\n        \"min\": -0.3586033583511695,\n        \"max\": -0.06389123846329398,\n        \"num_unique_values\": 2,\n        \"samples\": [\n          -0.06389123846329398,\n          -0.3586033583511695\n        ],\n        \"semantic_type\": \"\",\n        \"description\": \"\"\n      }\n    },\n    {\n      \"column\": 5,\n      \"properties\": {\n        \"dtype\": \"number\",\n        \"std\": 0.001611015357860137,\n        \"min\": -0.08786632376030924,\n        \"max\": -0.08558800399203209,\n        \"num_unique_values\": 2,\n        \"samples\": [\n          -0.08558800399203209,\n          -0.08786632376030924\n        ],\n        \"semantic_type\": \"\",\n        \"description\": \"\"\n      }\n    },\n    {\n      \"column\": 6,\n      \"properties\": {\n        \"dtype\": \"number\",\n        \"std\": 0.16172672787946693,\n        \"min\": -0.15622592050701403,\n        \"max\": 0.07249021145835105,\n        \"num_unique_values\": 2,\n        \"samples\": [\n          0.07249021145835105,\n          -0.15622592050701403\n        ],\n        \"semantic_type\": \"\",\n        \"description\": \"\"\n      }\n    },\n    {\n      \"column\": 7,\n      \"properties\": {\n        \"dtype\": \"number\",\n        \"std\": 0.21174688385730261,\n        \"min\": 0.042986285549433206,\n        \"max\": 0.3424416004906711,\n        \"num_unique_values\": 2,\n        \"samples\": [\n          0.042986285549433206,\n          0.3424416004906711\n        ],\n        \"semantic_type\": \"\",\n        \"description\": \"\"\n      }\n    },\n    {\n      \"column\": 8,\n      \"properties\": {\n        \"dtype\": \"number\",\n        \"std\": 0.02595856766595407,\n        \"min\": -0.05271419625106031,\n        \"max\": -0.016003237798088363,\n        \"num_unique_values\": 2,\n        \"samples\": [\n          -0.05271419625106031,\n          -0.016003237798088363\n        ],\n        \"semantic_type\": \"\",\n        \"description\": \"\"\n      }\n    },\n    {\n      \"column\": 9,\n      \"properties\": {\n        \"dtype\": \"number\",\n        \"std\": 0.08722801885320636,\n        \"min\": 0.019754250302719864,\n        \"max\": 0.14311329758386032,\n        \"num_unique_values\": 2,\n        \"samples\": [\n          0.019754250302719864,\n          0.14311329758386032\n        ],\n        \"semantic_type\": \"\",\n        \"description\": \"\"\n      }\n    },\n    {\n      \"column\": 10,\n      \"properties\": {\n        \"dtype\": \"number\",\n        \"std\": 0.29397019713295663,\n        \"min\": -0.159314166332588,\n        \"max\": 0.2564224733863316,\n        \"num_unique_values\": 2,\n        \"samples\": [\n          -0.159314166332588,\n          0.2564224733863316\n        ],\n        \"semantic_type\": \"\",\n        \"description\": \"\"\n      }\n    },\n    {\n      \"column\": 11,\n      \"properties\": {\n        \"dtype\": \"number\",\n        \"std\": 0.17385307554648166,\n        \"min\": -0.4099908516596876,\n        \"max\": -0.16412547436157898,\n        \"num_unique_values\": 2,\n        \"samples\": [\n          -0.4099908516596876,\n          -0.16412547436157898\n        ],\n        \"semantic_type\": \"\",\n        \"description\": \"\"\n      }\n    },\n    {\n      \"column\": 12,\n      \"properties\": {\n        \"dtype\": \"number\",\n        \"std\": 0.04445769366887959,\n        \"min\": -0.1996152652940482,\n        \"max\": -0.1367425919556902,\n        \"num_unique_values\": 2,\n        \"samples\": [\n          -0.1996152652940482,\n          -0.1367425919556902\n        ],\n        \"semantic_type\": \"\",\n        \"description\": \"\"\n      }\n    },\n    {\n      \"column\": 13,\n      \"properties\": {\n        \"dtype\": \"number\",\n        \"std\": 0.027697984111391474,\n        \"min\": 0.014674350208574483,\n        \"max\": 0.053845214989298805,\n        \"num_unique_values\": 2,\n        \"samples\": [\n          0.053845214989298805,\n          0.014674350208574483\n        ],\n        \"semantic_type\": \"\",\n        \"description\": \"\"\n      }\n    },\n    {\n      \"column\": 14,\n      \"properties\": {\n        \"dtype\": \"number\",\n        \"std\": 1.4142135623730951,\n        \"min\": -1.0,\n        \"max\": 1.0,\n        \"num_unique_values\": 2,\n        \"samples\": [\n          -1.0,\n          1.0\n        ],\n        \"semantic_type\": \"\",\n        \"description\": \"\"\n      }\n    }\n  ]\n}"
            }
          },
          "metadata": {},
          "execution_count": 12
        }
      ],
      "source": [
        "import numpy as np\n",
        "import matplotlib.pyplot as plt\n",
        "\n",
        "small_data = df.iloc[:2]\n",
        "small_data"
      ]
    },
    {
      "cell_type": "code",
      "execution_count": 5,
      "id": "61ede649-6c3d-4dc8-9f87-da346abde569",
      "metadata": {
        "id": "61ede649-6c3d-4dc8-9f87-da346abde569",
        "outputId": "518d3e54-a7fe-4361-a7ac-9453678c4936",
        "colab": {
          "base_uri": "https://localhost:8080/"
        }
      },
      "outputs": [
        {
          "output_type": "execute_result",
          "data": {
            "text/plain": [
              "array([-0.19357448,  0.11397916, -0.00592673,  0.30095717, -0.35860336,\n",
              "       -0.08786632, -0.15622592,  0.3424416 , -0.01600324,  0.1431133 ,\n",
              "        0.25642247, -0.16412547, -0.13674259,  0.01467435])"
            ]
          },
          "metadata": {},
          "execution_count": 5
        }
      ],
      "source": [
        "# Features of the first data point\n",
        "small_data.values[0,:-1]"
      ]
    },
    {
      "cell_type": "code",
      "execution_count": 13,
      "id": "92108595-198b-4dd3-a074-102a4f3163e4",
      "metadata": {
        "id": "92108595-198b-4dd3-a074-102a4f3163e4",
        "outputId": "c712cb26-b537-4d10-c04a-2cfb3ad4a750",
        "colab": {
          "base_uri": "https://localhost:8080/"
        }
      },
      "outputs": [
        {
          "output_type": "execute_result",
          "data": {
            "text/plain": [
              "array([[-0.19357448,  0.11397916, -0.00592673,  0.30095717, -0.35860336,\n",
              "        -0.08786632, -0.15622592,  0.3424416 , -0.01600324,  0.1431133 ,\n",
              "         0.25642247, -0.16412547, -0.13674259,  0.01467435],\n",
              "       [-0.10000625,  0.00243083,  0.24421757,  0.12686991, -0.06389124,\n",
              "        -0.085588  ,  0.07249021,  0.04298629, -0.0527142 ,  0.01975425,\n",
              "        -0.15931417, -0.40999085, -0.19961527,  0.05384521]])"
            ]
          },
          "metadata": {},
          "execution_count": 13
        }
      ],
      "source": [
        "# Data points with labels removed, for inner product\n",
        "train_data = small_data.values[:,:-1]\n",
        "train_data"
      ]
    },
    {
      "cell_type": "code",
      "source": [
        "!pip install pylatexenc"
      ],
      "metadata": {
        "id": "AlRsGuhxhgwL",
        "outputId": "a9228464-12ef-44a0-d82c-aed7096f30da",
        "colab": {
          "base_uri": "https://localhost:8080/"
        }
      },
      "id": "AlRsGuhxhgwL",
      "execution_count": 28,
      "outputs": [
        {
          "output_type": "stream",
          "name": "stdout",
          "text": [
            "Requirement already satisfied: pylatexenc in /usr/local/lib/python3.11/dist-packages (2.10)\n"
          ]
        }
      ]
    },
    {
      "cell_type": "code",
      "execution_count": 36,
      "id": "bfd25ca4-8b54-435f-88ec-9da10f5255e4",
      "metadata": {
        "id": "bfd25ca4-8b54-435f-88ec-9da10f5255e4",
        "outputId": "16e388a9-b8ce-43d2-ea10-35395a27641f",
        "colab": {
          "base_uri": "https://localhost:8080/",
          "height": 463
        }
      },
      "outputs": [
        {
          "output_type": "execute_result",
          "data": {
            "text/plain": [
              "      ┌───┐┌─────────────┐ ┌───┐┌─────────────┐ \n",
              " q_0: ┤ H ├┤ P(2.0*x[0]) ├─┤ H ├┤ P(2.0*x[0]) ├─\n",
              "      ├───┤├─────────────┤ ├───┤├─────────────┤ \n",
              " q_1: ┤ H ├┤ P(2.0*x[1]) ├─┤ H ├┤ P(2.0*x[1]) ├─\n",
              "      ├───┤├─────────────┤ ├───┤├─────────────┤ \n",
              " q_2: ┤ H ├┤ P(2.0*x[2]) ├─┤ H ├┤ P(2.0*x[2]) ├─\n",
              "      ├───┤├─────────────┤ ├───┤├─────────────┤ \n",
              " q_3: ┤ H ├┤ P(2.0*x[3]) ├─┤ H ├┤ P(2.0*x[3]) ├─\n",
              "      ├───┤├─────────────┤ ├───┤├─────────────┤ \n",
              " q_4: ┤ H ├┤ P(2.0*x[4]) ├─┤ H ├┤ P(2.0*x[4]) ├─\n",
              "      ├───┤├─────────────┤ ├───┤├─────────────┤ \n",
              " q_5: ┤ H ├┤ P(2.0*x[5]) ├─┤ H ├┤ P(2.0*x[5]) ├─\n",
              "      ├───┤├─────────────┤ ├───┤├─────────────┤ \n",
              " q_6: ┤ H ├┤ P(2.0*x[6]) ├─┤ H ├┤ P(2.0*x[6]) ├─\n",
              "      ├───┤├─────────────┤ ├───┤├─────────────┤ \n",
              " q_7: ┤ H ├┤ P(2.0*x[7]) ├─┤ H ├┤ P(2.0*x[7]) ├─\n",
              "      ├───┤├─────────────┤ ├───┤├─────────────┤ \n",
              " q_8: ┤ H ├┤ P(2.0*x[8]) ├─┤ H ├┤ P(2.0*x[8]) ├─\n",
              "      ├───┤├─────────────┤ ├───┤├─────────────┤ \n",
              " q_9: ┤ H ├┤ P(2.0*x[9]) ├─┤ H ├┤ P(2.0*x[9]) ├─\n",
              "      ├───┤├─────────────┴┐├───┤├─────────────┴┐\n",
              "q_10: ┤ H ├┤ P(2.0*x[10]) ├┤ H ├┤ P(2.0*x[10]) ├\n",
              "      ├───┤├──────────────┤├───┤├──────────────┤\n",
              "q_11: ┤ H ├┤ P(2.0*x[11]) ├┤ H ├┤ P(2.0*x[11]) ├\n",
              "      ├───┤├──────────────┤├───┤├──────────────┤\n",
              "q_12: ┤ H ├┤ P(2.0*x[12]) ├┤ H ├┤ P(2.0*x[12]) ├\n",
              "      ├───┤├──────────────┤├───┤├──────────────┤\n",
              "q_13: ┤ H ├┤ P(2.0*x[13]) ├┤ H ├┤ P(2.0*x[13]) ├\n",
              "      └───┘└──────────────┘└───┘└──────────────┘"
            ],
            "text/html": [
              "<pre style=\"word-wrap: normal;white-space: pre;background: #fff0;line-height: 1.1;font-family: &quot;Courier New&quot;,Courier,monospace\">      ┌───┐┌─────────────┐ ┌───┐┌─────────────┐ \n",
              " q_0: ┤ H ├┤ P(2.0*x[0]) ├─┤ H ├┤ P(2.0*x[0]) ├─\n",
              "      ├───┤├─────────────┤ ├───┤├─────────────┤ \n",
              " q_1: ┤ H ├┤ P(2.0*x[1]) ├─┤ H ├┤ P(2.0*x[1]) ├─\n",
              "      ├───┤├─────────────┤ ├───┤├─────────────┤ \n",
              " q_2: ┤ H ├┤ P(2.0*x[2]) ├─┤ H ├┤ P(2.0*x[2]) ├─\n",
              "      ├───┤├─────────────┤ ├───┤├─────────────┤ \n",
              " q_3: ┤ H ├┤ P(2.0*x[3]) ├─┤ H ├┤ P(2.0*x[3]) ├─\n",
              "      ├───┤├─────────────┤ ├───┤├─────────────┤ \n",
              " q_4: ┤ H ├┤ P(2.0*x[4]) ├─┤ H ├┤ P(2.0*x[4]) ├─\n",
              "      ├───┤├─────────────┤ ├───┤├─────────────┤ \n",
              " q_5: ┤ H ├┤ P(2.0*x[5]) ├─┤ H ├┤ P(2.0*x[5]) ├─\n",
              "      ├───┤├─────────────┤ ├───┤├─────────────┤ \n",
              " q_6: ┤ H ├┤ P(2.0*x[6]) ├─┤ H ├┤ P(2.0*x[6]) ├─\n",
              "      ├───┤├─────────────┤ ├───┤├─────────────┤ \n",
              " q_7: ┤ H ├┤ P(2.0*x[7]) ├─┤ H ├┤ P(2.0*x[7]) ├─\n",
              "      ├───┤├─────────────┤ ├───┤├─────────────┤ \n",
              " q_8: ┤ H ├┤ P(2.0*x[8]) ├─┤ H ├┤ P(2.0*x[8]) ├─\n",
              "      ├───┤├─────────────┤ ├───┤├─────────────┤ \n",
              " q_9: ┤ H ├┤ P(2.0*x[9]) ├─┤ H ├┤ P(2.0*x[9]) ├─\n",
              "      ├───┤├─────────────┴┐├───┤├─────────────┴┐\n",
              "q_10: ┤ H ├┤ P(2.0*x[10]) ├┤ H ├┤ P(2.0*x[10]) ├\n",
              "      ├───┤├──────────────┤├───┤├──────────────┤\n",
              "q_11: ┤ H ├┤ P(2.0*x[11]) ├┤ H ├┤ P(2.0*x[11]) ├\n",
              "      ├───┤├──────────────┤├───┤├──────────────┤\n",
              "q_12: ┤ H ├┤ P(2.0*x[12]) ├┤ H ├┤ P(2.0*x[12]) ├\n",
              "      ├───┤├──────────────┤├───┤├──────────────┤\n",
              "q_13: ┤ H ├┤ P(2.0*x[13]) ├┤ H ├┤ P(2.0*x[13]) ├\n",
              "      └───┘└──────────────┘└───┘└──────────────┘</pre>"
            ]
          },
          "metadata": {},
          "execution_count": 36
        }
      ],
      "source": [
        "import pylatexenc\n",
        "from qiskit.circuit.library import ZFeatureMap\n",
        "\n",
        "fm = ZFeatureMap(feature_dimension=14)\n",
        "fm.decompose().draw()"
      ]
    },
    {
      "cell_type": "code",
      "execution_count": 32,
      "id": "ae17fe72-5786-449b-85af-cf7a8a8ee2d3",
      "metadata": {
        "id": "ae17fe72-5786-449b-85af-cf7a8a8ee2d3"
      },
      "outputs": [],
      "source": [
        "unitary1 = fm.assign_parameters(train_data[0])\n",
        "unitary2 = fm.assign_parameters(train_data[1])"
      ]
    },
    {
      "cell_type": "code",
      "source": [
        "unitary1.decompose().draw()"
      ],
      "metadata": {
        "id": "U7eUxmT0iXrL",
        "outputId": "eab73933-6820-4596-c243-b6885c045b04",
        "colab": {
          "base_uri": "https://localhost:8080/",
          "height": 463
        }
      },
      "id": "U7eUxmT0iXrL",
      "execution_count": 35,
      "outputs": [
        {
          "output_type": "execute_result",
          "data": {
            "text/plain": [
              "      ┌───┐┌─────────────┐ ┌───┐┌─────────────┐ \n",
              " q_0: ┤ H ├┤ P(-0.38715) ├─┤ H ├┤ P(-0.38715) ├─\n",
              "      ├───┤└┬────────────┤ ├───┤└┬────────────┤ \n",
              " q_1: ┤ H ├─┤ P(0.22796) ├─┤ H ├─┤ P(0.22796) ├─\n",
              "      ├───┤┌┴────────────┴┐├───┤┌┴────────────┴┐\n",
              " q_2: ┤ H ├┤ P(-0.011853) ├┤ H ├┤ P(-0.011853) ├\n",
              "      ├───┤└┬────────────┬┘├───┤└┬────────────┬┘\n",
              " q_3: ┤ H ├─┤ P(0.60191) ├─┤ H ├─┤ P(0.60191) ├─\n",
              "      ├───┤┌┴────────────┤ ├───┤┌┴────────────┤ \n",
              " q_4: ┤ H ├┤ P(-0.71721) ├─┤ H ├┤ P(-0.71721) ├─\n",
              "      ├───┤├─────────────┤ ├───┤├─────────────┤ \n",
              " q_5: ┤ H ├┤ P(-0.17573) ├─┤ H ├┤ P(-0.17573) ├─\n",
              "      ├───┤├─────────────┤ ├───┤├─────────────┤ \n",
              " q_6: ┤ H ├┤ P(-0.31245) ├─┤ H ├┤ P(-0.31245) ├─\n",
              "      ├───┤└┬────────────┤ ├───┤└┬────────────┤ \n",
              " q_7: ┤ H ├─┤ P(0.68488) ├─┤ H ├─┤ P(0.68488) ├─\n",
              "      ├───┤┌┴────────────┴┐├───┤┌┴────────────┴┐\n",
              " q_8: ┤ H ├┤ P(-0.032006) ├┤ H ├┤ P(-0.032006) ├\n",
              "      ├───┤└┬────────────┬┘├───┤└┬────────────┬┘\n",
              " q_9: ┤ H ├─┤ P(0.28623) ├─┤ H ├─┤ P(0.28623) ├─\n",
              "      ├───┤ ├────────────┤ ├───┤ ├────────────┤ \n",
              "q_10: ┤ H ├─┤ P(0.51284) ├─┤ H ├─┤ P(0.51284) ├─\n",
              "      ├───┤┌┴────────────┤ ├───┤┌┴────────────┤ \n",
              "q_11: ┤ H ├┤ P(-0.32825) ├─┤ H ├┤ P(-0.32825) ├─\n",
              "      ├───┤├─────────────┤ ├───┤├─────────────┤ \n",
              "q_12: ┤ H ├┤ P(-0.27349) ├─┤ H ├┤ P(-0.27349) ├─\n",
              "      ├───┤├─────────────┤ ├───┤├─────────────┤ \n",
              "q_13: ┤ H ├┤ P(0.029349) ├─┤ H ├┤ P(0.029349) ├─\n",
              "      └───┘└─────────────┘ └───┘└─────────────┘ "
            ],
            "text/html": [
              "<pre style=\"word-wrap: normal;white-space: pre;background: #fff0;line-height: 1.1;font-family: &quot;Courier New&quot;,Courier,monospace\">      ┌───┐┌─────────────┐ ┌───┐┌─────────────┐ \n",
              " q_0: ┤ H ├┤ P(-0.38715) ├─┤ H ├┤ P(-0.38715) ├─\n",
              "      ├───┤└┬────────────┤ ├───┤└┬────────────┤ \n",
              " q_1: ┤ H ├─┤ P(0.22796) ├─┤ H ├─┤ P(0.22796) ├─\n",
              "      ├───┤┌┴────────────┴┐├───┤┌┴────────────┴┐\n",
              " q_2: ┤ H ├┤ P(-0.011853) ├┤ H ├┤ P(-0.011853) ├\n",
              "      ├───┤└┬────────────┬┘├───┤└┬────────────┬┘\n",
              " q_3: ┤ H ├─┤ P(0.60191) ├─┤ H ├─┤ P(0.60191) ├─\n",
              "      ├───┤┌┴────────────┤ ├───┤┌┴────────────┤ \n",
              " q_4: ┤ H ├┤ P(-0.71721) ├─┤ H ├┤ P(-0.71721) ├─\n",
              "      ├───┤├─────────────┤ ├───┤├─────────────┤ \n",
              " q_5: ┤ H ├┤ P(-0.17573) ├─┤ H ├┤ P(-0.17573) ├─\n",
              "      ├───┤├─────────────┤ ├───┤├─────────────┤ \n",
              " q_6: ┤ H ├┤ P(-0.31245) ├─┤ H ├┤ P(-0.31245) ├─\n",
              "      ├───┤└┬────────────┤ ├───┤└┬────────────┤ \n",
              " q_7: ┤ H ├─┤ P(0.68488) ├─┤ H ├─┤ P(0.68488) ├─\n",
              "      ├───┤┌┴────────────┴┐├───┤┌┴────────────┴┐\n",
              " q_8: ┤ H ├┤ P(-0.032006) ├┤ H ├┤ P(-0.032006) ├\n",
              "      ├───┤└┬────────────┬┘├───┤└┬────────────┬┘\n",
              " q_9: ┤ H ├─┤ P(0.28623) ├─┤ H ├─┤ P(0.28623) ├─\n",
              "      ├───┤ ├────────────┤ ├───┤ ├────────────┤ \n",
              "q_10: ┤ H ├─┤ P(0.51284) ├─┤ H ├─┤ P(0.51284) ├─\n",
              "      ├───┤┌┴────────────┤ ├───┤┌┴────────────┤ \n",
              "q_11: ┤ H ├┤ P(-0.32825) ├─┤ H ├┤ P(-0.32825) ├─\n",
              "      ├───┤├─────────────┤ ├───┤├─────────────┤ \n",
              "q_12: ┤ H ├┤ P(-0.27349) ├─┤ H ├┤ P(-0.27349) ├─\n",
              "      ├───┤├─────────────┤ ├───┤├─────────────┤ \n",
              "q_13: ┤ H ├┤ P(0.029349) ├─┤ H ├┤ P(0.029349) ├─\n",
              "      └───┘└─────────────┘ └───┘└─────────────┘ </pre>"
            ]
          },
          "metadata": {},
          "execution_count": 35
        }
      ]
    },
    {
      "cell_type": "code",
      "execution_count": 38,
      "id": "9d011097-8d86-4fe9-95c6-bbf97aa19ee2",
      "metadata": {
        "id": "9d011097-8d86-4fe9-95c6-bbf97aa19ee2",
        "outputId": "32bcca08-978d-4c47-d3a9-5f6d73c20919",
        "colab": {
          "base_uri": "https://localhost:8080/",
          "height": 989
        }
      },
      "outputs": [
        {
          "output_type": "stream",
          "name": "stdout",
          "text": [
            "circuit depth =  9\n"
          ]
        },
        {
          "output_type": "execute_result",
          "data": {
            "text/plain": [
              "         ┌───┐┌─────────────┐ ┌───┐┌─────────────┐   ┌────────────┐ ┌───┐»\n",
              "    q_0: ┤ H ├┤ P(-0.38715) ├─┤ H ├┤ P(-0.38715) ├───┤ P(0.20001) ├─┤ H ├»\n",
              "         ├───┤└┬────────────┤ ├───┤└┬────────────┤ ┌─┴────────────┴┐├───┤»\n",
              "    q_1: ┤ H ├─┤ P(0.22796) ├─┤ H ├─┤ P(0.22796) ├─┤ P(-0.0048617) ├┤ H ├»\n",
              "         ├───┤┌┴────────────┴┐├───┤┌┴────────────┴┐└┬─────────────┬┘├───┤»\n",
              "    q_2: ┤ H ├┤ P(-0.011853) ├┤ H ├┤ P(-0.011853) ├─┤ P(-0.48844) ├─┤ H ├»\n",
              "         ├───┤└┬────────────┬┘├───┤└┬────────────┬┘ ├─────────────┤ ├───┤»\n",
              "    q_3: ┤ H ├─┤ P(0.60191) ├─┤ H ├─┤ P(0.60191) ├──┤ P(-0.25374) ├─┤ H ├»\n",
              "         ├───┤┌┴────────────┤ ├───┤┌┴────────────┤  └┬────────────┤ ├───┤»\n",
              "    q_4: ┤ H ├┤ P(-0.71721) ├─┤ H ├┤ P(-0.71721) ├───┤ P(0.12778) ├─┤ H ├»\n",
              "         ├───┤├─────────────┤ ├───┤├─────────────┤   ├────────────┤ ├───┤»\n",
              "    q_5: ┤ H ├┤ P(-0.17573) ├─┤ H ├┤ P(-0.17573) ├───┤ P(0.17118) ├─┤ H ├»\n",
              "         ├───┤├─────────────┤ ├───┤├─────────────┤  ┌┴────────────┤ ├───┤»\n",
              "    q_6: ┤ H ├┤ P(-0.31245) ├─┤ H ├┤ P(-0.31245) ├──┤ P(-0.14498) ├─┤ H ├»\n",
              "         ├───┤└┬────────────┤ ├───┤└┬────────────┤  ├─────────────┴┐├───┤»\n",
              "    q_7: ┤ H ├─┤ P(0.68488) ├─┤ H ├─┤ P(0.68488) ├──┤ P(-0.085973) ├┤ H ├»\n",
              "         ├───┤┌┴────────────┴┐├───┤┌┴────────────┴┐ └┬────────────┬┘├───┤»\n",
              "    q_8: ┤ H ├┤ P(-0.032006) ├┤ H ├┤ P(-0.032006) ├──┤ P(0.10543) ├─┤ H ├»\n",
              "         ├───┤└┬────────────┬┘├───┤└┬────────────┬┘ ┌┴────────────┴┐├───┤»\n",
              "    q_9: ┤ H ├─┤ P(0.28623) ├─┤ H ├─┤ P(0.28623) ├──┤ P(-0.039509) ├┤ H ├»\n",
              "         ├───┤ ├────────────┤ ├───┤ ├────────────┤  └┬────────────┬┘├───┤»\n",
              "   q_10: ┤ H ├─┤ P(0.51284) ├─┤ H ├─┤ P(0.51284) ├───┤ P(0.31863) ├─┤ H ├»\n",
              "         ├───┤┌┴────────────┤ ├───┤┌┴────────────┤   ├────────────┤ ├───┤»\n",
              "   q_11: ┤ H ├┤ P(-0.32825) ├─┤ H ├┤ P(-0.32825) ├───┤ P(0.81998) ├─┤ H ├»\n",
              "         ├───┤├─────────────┤ ├───┤├─────────────┤   ├────────────┤ ├───┤»\n",
              "   q_12: ┤ H ├┤ P(-0.27349) ├─┤ H ├┤ P(-0.27349) ├───┤ P(0.39923) ├─┤ H ├»\n",
              "         ├───┤├─────────────┤ ├───┤├─────────────┤  ┌┴────────────┤ ├───┤»\n",
              "   q_13: ┤ H ├┤ P(0.029349) ├─┤ H ├┤ P(0.029349) ├──┤ P(-0.10769) ├─┤ H ├»\n",
              "         └───┘└─────────────┘ └───┘└─────────────┘  └─────────────┘ └───┘»\n",
              "meas: 14/════════════════════════════════════════════════════════════════»\n",
              "                                                                         »\n",
              "«           ┌────────────┐ ┌───┐ ░ ┌─┐                                       \n",
              "«    q_0: ──┤ P(0.20001) ├─┤ H ├─░─┤M├───────────────────────────────────────\n",
              "«         ┌─┴────────────┴┐├───┤ ░ └╥┘┌─┐                                    \n",
              "«    q_1: ┤ P(-0.0048617) ├┤ H ├─░──╫─┤M├────────────────────────────────────\n",
              "«         └┬─────────────┬┘├───┤ ░  ║ └╥┘┌─┐                                 \n",
              "«    q_2: ─┤ P(-0.48844) ├─┤ H ├─░──╫──╫─┤M├─────────────────────────────────\n",
              "«          ├─────────────┤ ├───┤ ░  ║  ║ └╥┘┌─┐                              \n",
              "«    q_3: ─┤ P(-0.25374) ├─┤ H ├─░──╫──╫──╫─┤M├──────────────────────────────\n",
              "«          └┬────────────┤ ├───┤ ░  ║  ║  ║ └╥┘┌─┐                           \n",
              "«    q_4: ──┤ P(0.12778) ├─┤ H ├─░──╫──╫──╫──╫─┤M├───────────────────────────\n",
              "«           ├────────────┤ ├───┤ ░  ║  ║  ║  ║ └╥┘┌─┐                        \n",
              "«    q_5: ──┤ P(0.17118) ├─┤ H ├─░──╫──╫──╫──╫──╫─┤M├────────────────────────\n",
              "«          ┌┴────────────┤ ├───┤ ░  ║  ║  ║  ║  ║ └╥┘┌─┐                     \n",
              "«    q_6: ─┤ P(-0.14498) ├─┤ H ├─░──╫──╫──╫──╫──╫──╫─┤M├─────────────────────\n",
              "«          ├─────────────┴┐├───┤ ░  ║  ║  ║  ║  ║  ║ └╥┘┌─┐                  \n",
              "«    q_7: ─┤ P(-0.085973) ├┤ H ├─░──╫──╫──╫──╫──╫──╫──╫─┤M├──────────────────\n",
              "«          └┬────────────┬┘├───┤ ░  ║  ║  ║  ║  ║  ║  ║ └╥┘┌─┐               \n",
              "«    q_8: ──┤ P(0.10543) ├─┤ H ├─░──╫──╫──╫──╫──╫──╫──╫──╫─┤M├───────────────\n",
              "«          ┌┴────────────┴┐├───┤ ░  ║  ║  ║  ║  ║  ║  ║  ║ └╥┘┌─┐            \n",
              "«    q_9: ─┤ P(-0.039509) ├┤ H ├─░──╫──╫──╫──╫──╫──╫──╫──╫──╫─┤M├────────────\n",
              "«          └┬────────────┬┘├───┤ ░  ║  ║  ║  ║  ║  ║  ║  ║  ║ └╥┘┌─┐         \n",
              "«   q_10: ──┤ P(0.31863) ├─┤ H ├─░──╫──╫──╫──╫──╫──╫──╫──╫──╫──╫─┤M├─────────\n",
              "«           ├────────────┤ ├───┤ ░  ║  ║  ║  ║  ║  ║  ║  ║  ║  ║ └╥┘┌─┐      \n",
              "«   q_11: ──┤ P(0.81998) ├─┤ H ├─░──╫──╫──╫──╫──╫──╫──╫──╫──╫──╫──╫─┤M├──────\n",
              "«           ├────────────┤ ├───┤ ░  ║  ║  ║  ║  ║  ║  ║  ║  ║  ║  ║ └╥┘┌─┐   \n",
              "«   q_12: ──┤ P(0.39923) ├─┤ H ├─░──╫──╫──╫──╫──╫──╫──╫──╫──╫──╫──╫──╫─┤M├───\n",
              "«          ┌┴────────────┤ ├───┤ ░  ║  ║  ║  ║  ║  ║  ║  ║  ║  ║  ║  ║ └╥┘┌─┐\n",
              "«   q_13: ─┤ P(-0.10769) ├─┤ H ├─░──╫──╫──╫──╫──╫──╫──╫──╫──╫──╫──╫──╫──╫─┤M├\n",
              "«          └─────────────┘ └───┘ ░  ║  ║  ║  ║  ║  ║  ║  ║  ║  ║  ║  ║  ║ └╥┘\n",
              "«meas: 14/══════════════════════════╩══╩══╩══╩══╩══╩══╩══╩══╩══╩══╩══╩══╩══╩═\n",
              "«                                   0  1  2  3  4  5  6  7  8  9  10 11 12 13"
            ],
            "text/html": [
              "<pre style=\"word-wrap: normal;white-space: pre;background: #fff0;line-height: 1.1;font-family: &quot;Courier New&quot;,Courier,monospace\">         ┌───┐┌─────────────┐ ┌───┐┌─────────────┐   ┌────────────┐ ┌───┐»\n",
              "    q_0: ┤ H ├┤ P(-0.38715) ├─┤ H ├┤ P(-0.38715) ├───┤ P(0.20001) ├─┤ H ├»\n",
              "         ├───┤└┬────────────┤ ├───┤└┬────────────┤ ┌─┴────────────┴┐├───┤»\n",
              "    q_1: ┤ H ├─┤ P(0.22796) ├─┤ H ├─┤ P(0.22796) ├─┤ P(-0.0048617) ├┤ H ├»\n",
              "         ├───┤┌┴────────────┴┐├───┤┌┴────────────┴┐└┬─────────────┬┘├───┤»\n",
              "    q_2: ┤ H ├┤ P(-0.011853) ├┤ H ├┤ P(-0.011853) ├─┤ P(-0.48844) ├─┤ H ├»\n",
              "         ├───┤└┬────────────┬┘├───┤└┬────────────┬┘ ├─────────────┤ ├───┤»\n",
              "    q_3: ┤ H ├─┤ P(0.60191) ├─┤ H ├─┤ P(0.60191) ├──┤ P(-0.25374) ├─┤ H ├»\n",
              "         ├───┤┌┴────────────┤ ├───┤┌┴────────────┤  └┬────────────┤ ├───┤»\n",
              "    q_4: ┤ H ├┤ P(-0.71721) ├─┤ H ├┤ P(-0.71721) ├───┤ P(0.12778) ├─┤ H ├»\n",
              "         ├───┤├─────────────┤ ├───┤├─────────────┤   ├────────────┤ ├───┤»\n",
              "    q_5: ┤ H ├┤ P(-0.17573) ├─┤ H ├┤ P(-0.17573) ├───┤ P(0.17118) ├─┤ H ├»\n",
              "         ├───┤├─────────────┤ ├───┤├─────────────┤  ┌┴────────────┤ ├───┤»\n",
              "    q_6: ┤ H ├┤ P(-0.31245) ├─┤ H ├┤ P(-0.31245) ├──┤ P(-0.14498) ├─┤ H ├»\n",
              "         ├───┤└┬────────────┤ ├───┤└┬────────────┤  ├─────────────┴┐├───┤»\n",
              "    q_7: ┤ H ├─┤ P(0.68488) ├─┤ H ├─┤ P(0.68488) ├──┤ P(-0.085973) ├┤ H ├»\n",
              "         ├───┤┌┴────────────┴┐├───┤┌┴────────────┴┐ └┬────────────┬┘├───┤»\n",
              "    q_8: ┤ H ├┤ P(-0.032006) ├┤ H ├┤ P(-0.032006) ├──┤ P(0.10543) ├─┤ H ├»\n",
              "         ├───┤└┬────────────┬┘├───┤└┬────────────┬┘ ┌┴────────────┴┐├───┤»\n",
              "    q_9: ┤ H ├─┤ P(0.28623) ├─┤ H ├─┤ P(0.28623) ├──┤ P(-0.039509) ├┤ H ├»\n",
              "         ├───┤ ├────────────┤ ├───┤ ├────────────┤  └┬────────────┬┘├───┤»\n",
              "   q_10: ┤ H ├─┤ P(0.51284) ├─┤ H ├─┤ P(0.51284) ├───┤ P(0.31863) ├─┤ H ├»\n",
              "         ├───┤┌┴────────────┤ ├───┤┌┴────────────┤   ├────────────┤ ├───┤»\n",
              "   q_11: ┤ H ├┤ P(-0.32825) ├─┤ H ├┤ P(-0.32825) ├───┤ P(0.81998) ├─┤ H ├»\n",
              "         ├───┤├─────────────┤ ├───┤├─────────────┤   ├────────────┤ ├───┤»\n",
              "   q_12: ┤ H ├┤ P(-0.27349) ├─┤ H ├┤ P(-0.27349) ├───┤ P(0.39923) ├─┤ H ├»\n",
              "         ├───┤├─────────────┤ ├───┤├─────────────┤  ┌┴────────────┤ ├───┤»\n",
              "   q_13: ┤ H ├┤ P(0.029349) ├─┤ H ├┤ P(0.029349) ├──┤ P(-0.10769) ├─┤ H ├»\n",
              "         └───┘└─────────────┘ └───┘└─────────────┘  └─────────────┘ └───┘»\n",
              "meas: 14/════════════════════════════════════════════════════════════════»\n",
              "                                                                         »\n",
              "«           ┌────────────┐ ┌───┐ ░ ┌─┐                                       \n",
              "«    q_0: ──┤ P(0.20001) ├─┤ H ├─░─┤M├───────────────────────────────────────\n",
              "«         ┌─┴────────────┴┐├───┤ ░ └╥┘┌─┐                                    \n",
              "«    q_1: ┤ P(-0.0048617) ├┤ H ├─░──╫─┤M├────────────────────────────────────\n",
              "«         └┬─────────────┬┘├───┤ ░  ║ └╥┘┌─┐                                 \n",
              "«    q_2: ─┤ P(-0.48844) ├─┤ H ├─░──╫──╫─┤M├─────────────────────────────────\n",
              "«          ├─────────────┤ ├───┤ ░  ║  ║ └╥┘┌─┐                              \n",
              "«    q_3: ─┤ P(-0.25374) ├─┤ H ├─░──╫──╫──╫─┤M├──────────────────────────────\n",
              "«          └┬────────────┤ ├───┤ ░  ║  ║  ║ └╥┘┌─┐                           \n",
              "«    q_4: ──┤ P(0.12778) ├─┤ H ├─░──╫──╫──╫──╫─┤M├───────────────────────────\n",
              "«           ├────────────┤ ├───┤ ░  ║  ║  ║  ║ └╥┘┌─┐                        \n",
              "«    q_5: ──┤ P(0.17118) ├─┤ H ├─░──╫──╫──╫──╫──╫─┤M├────────────────────────\n",
              "«          ┌┴────────────┤ ├───┤ ░  ║  ║  ║  ║  ║ └╥┘┌─┐                     \n",
              "«    q_6: ─┤ P(-0.14498) ├─┤ H ├─░──╫──╫──╫──╫──╫──╫─┤M├─────────────────────\n",
              "«          ├─────────────┴┐├───┤ ░  ║  ║  ║  ║  ║  ║ └╥┘┌─┐                  \n",
              "«    q_7: ─┤ P(-0.085973) ├┤ H ├─░──╫──╫──╫──╫──╫──╫──╫─┤M├──────────────────\n",
              "«          └┬────────────┬┘├───┤ ░  ║  ║  ║  ║  ║  ║  ║ └╥┘┌─┐               \n",
              "«    q_8: ──┤ P(0.10543) ├─┤ H ├─░──╫──╫──╫──╫──╫──╫──╫──╫─┤M├───────────────\n",
              "«          ┌┴────────────┴┐├───┤ ░  ║  ║  ║  ║  ║  ║  ║  ║ └╥┘┌─┐            \n",
              "«    q_9: ─┤ P(-0.039509) ├┤ H ├─░──╫──╫──╫──╫──╫──╫──╫──╫──╫─┤M├────────────\n",
              "«          └┬────────────┬┘├───┤ ░  ║  ║  ║  ║  ║  ║  ║  ║  ║ └╥┘┌─┐         \n",
              "«   q_10: ──┤ P(0.31863) ├─┤ H ├─░──╫──╫──╫──╫──╫──╫──╫──╫──╫──╫─┤M├─────────\n",
              "«           ├────────────┤ ├───┤ ░  ║  ║  ║  ║  ║  ║  ║  ║  ║  ║ └╥┘┌─┐      \n",
              "«   q_11: ──┤ P(0.81998) ├─┤ H ├─░──╫──╫──╫──╫──╫──╫──╫──╫──╫──╫──╫─┤M├──────\n",
              "«           ├────────────┤ ├───┤ ░  ║  ║  ║  ║  ║  ║  ║  ║  ║  ║  ║ └╥┘┌─┐   \n",
              "«   q_12: ──┤ P(0.39923) ├─┤ H ├─░──╫──╫──╫──╫──╫──╫──╫──╫──╫──╫──╫──╫─┤M├───\n",
              "«          ┌┴────────────┤ ├───┤ ░  ║  ║  ║  ║  ║  ║  ║  ║  ║  ║  ║  ║ └╥┘┌─┐\n",
              "«   q_13: ─┤ P(-0.10769) ├─┤ H ├─░──╫──╫──╫──╫──╫──╫──╫──╫──╫──╫──╫──╫──╫─┤M├\n",
              "«          └─────────────┘ └───┘ ░  ║  ║  ║  ║  ║  ║  ║  ║  ║  ║  ║  ║  ║ └╥┘\n",
              "«meas: 14/══════════════════════════╩══╩══╩══╩══╩══╩══╩══╩══╩══╩══╩══╩══╩══╩═\n",
              "«                                   0  1  2  3  4  5  6  7  8  9  10 11 12 13</pre>"
            ]
          },
          "metadata": {},
          "execution_count": 38
        }
      ],
      "source": [
        "from qiskit.circuit.library import UnitaryOverlap\n",
        "\n",
        "overlap_circ = UnitaryOverlap(unitary1, unitary2)\n",
        "overlap_circ.measure_all()\n",
        "\n",
        "print(\"circuit depth = \", overlap_circ.decompose().depth())\n",
        "overlap_circ.decompose().draw()"
      ]
    },
    {
      "cell_type": "markdown",
      "id": "9ff56bcf-ec33-41b3-9b27-e49aad6dbd7c",
      "metadata": {
        "id": "9ff56bcf-ec33-41b3-9b27-e49aad6dbd7c"
      },
      "source": [
        "### Step 2: Optimize problem for quantum execution\n",
        "\n",
        "We start by selecting the least busy backend, then optimize our circuit for running on that backend."
      ]
    },
    {
      "cell_type": "code",
      "source": [
        "!pip install qiskit_ibm_runtime"
      ],
      "metadata": {
        "id": "uwBid3OiktNp",
        "outputId": "18192c62-5cef-4fc0-ff17-1ddfcd5ab5f4",
        "colab": {
          "base_uri": "https://localhost:8080/"
        }
      },
      "id": "uwBid3OiktNp",
      "execution_count": 40,
      "outputs": [
        {
          "output_type": "stream",
          "name": "stdout",
          "text": [
            "Collecting qiskit_ibm_runtime\n",
            "  Downloading qiskit_ibm_runtime-0.36.1-py3-none-any.whl.metadata (20 kB)\n",
            "Requirement already satisfied: requests>=2.19 in /usr/local/lib/python3.11/dist-packages (from qiskit_ibm_runtime) (2.32.3)\n",
            "Collecting requests-ntlm>=1.1.0 (from qiskit_ibm_runtime)\n",
            "  Downloading requests_ntlm-1.3.0-py3-none-any.whl.metadata (2.4 kB)\n",
            "Requirement already satisfied: numpy>=1.13 in /usr/local/lib/python3.11/dist-packages (from qiskit_ibm_runtime) (1.26.4)\n",
            "Requirement already satisfied: urllib3>=1.21.1 in /usr/local/lib/python3.11/dist-packages (from qiskit_ibm_runtime) (2.3.0)\n",
            "Requirement already satisfied: python-dateutil>=2.8.0 in /usr/local/lib/python3.11/dist-packages (from qiskit_ibm_runtime) (2.8.2)\n",
            "Requirement already satisfied: websocket-client>=1.5.1 in /usr/local/lib/python3.11/dist-packages (from qiskit_ibm_runtime) (1.8.0)\n",
            "Collecting ibm-platform-services>=0.22.6 (from qiskit_ibm_runtime)\n",
            "  Downloading ibm_platform_services-0.59.1-py3-none-any.whl.metadata (9.0 kB)\n",
            "Collecting pydantic<2.10,>=2.5.0 (from qiskit_ibm_runtime)\n",
            "  Downloading pydantic-2.9.2-py3-none-any.whl.metadata (149 kB)\n",
            "\u001b[2K     \u001b[90m━━━━━━━━━━━━━━━━━━━━━━━━━━━━━━━━━━━━━━━━\u001b[0m \u001b[32m149.4/149.4 kB\u001b[0m \u001b[31m4.7 MB/s\u001b[0m eta \u001b[36m0:00:00\u001b[0m\n",
            "\u001b[?25hRequirement already satisfied: qiskit>=1.3.2 in /usr/local/lib/python3.11/dist-packages (from qiskit_ibm_runtime) (1.4.0)\n",
            "Collecting ibm_cloud_sdk_core<4.0.0,>=3.22.0 (from ibm-platform-services>=0.22.6->qiskit_ibm_runtime)\n",
            "  Downloading ibm_cloud_sdk_core-3.22.1-py3-none-any.whl.metadata (8.6 kB)\n",
            "Requirement already satisfied: annotated-types>=0.6.0 in /usr/local/lib/python3.11/dist-packages (from pydantic<2.10,>=2.5.0->qiskit_ibm_runtime) (0.7.0)\n",
            "Collecting pydantic-core==2.23.4 (from pydantic<2.10,>=2.5.0->qiskit_ibm_runtime)\n",
            "  Downloading pydantic_core-2.23.4-cp311-cp311-manylinux_2_17_x86_64.manylinux2014_x86_64.whl.metadata (6.6 kB)\n",
            "Requirement already satisfied: typing-extensions>=4.6.1 in /usr/local/lib/python3.11/dist-packages (from pydantic<2.10,>=2.5.0->qiskit_ibm_runtime) (4.12.2)\n",
            "Requirement already satisfied: six>=1.5 in /usr/local/lib/python3.11/dist-packages (from python-dateutil>=2.8.0->qiskit_ibm_runtime) (1.17.0)\n",
            "Requirement already satisfied: rustworkx>=0.15.0 in /usr/local/lib/python3.11/dist-packages (from qiskit>=1.3.2->qiskit_ibm_runtime) (0.16.0)\n",
            "Requirement already satisfied: scipy>=1.5 in /usr/local/lib/python3.11/dist-packages (from qiskit>=1.3.2->qiskit_ibm_runtime) (1.13.1)\n",
            "Requirement already satisfied: sympy>=1.3 in /usr/local/lib/python3.11/dist-packages (from qiskit>=1.3.2->qiskit_ibm_runtime) (1.13.1)\n",
            "Requirement already satisfied: dill>=0.3 in /usr/local/lib/python3.11/dist-packages (from qiskit>=1.3.2->qiskit_ibm_runtime) (0.3.9)\n",
            "Requirement already satisfied: stevedore>=3.0.0 in /usr/local/lib/python3.11/dist-packages (from qiskit>=1.3.2->qiskit_ibm_runtime) (5.4.1)\n",
            "Requirement already satisfied: symengine<0.14,>=0.11 in /usr/local/lib/python3.11/dist-packages (from qiskit>=1.3.2->qiskit_ibm_runtime) (0.13.0)\n",
            "Requirement already satisfied: charset-normalizer<4,>=2 in /usr/local/lib/python3.11/dist-packages (from requests>=2.19->qiskit_ibm_runtime) (3.4.1)\n",
            "Requirement already satisfied: idna<4,>=2.5 in /usr/local/lib/python3.11/dist-packages (from requests>=2.19->qiskit_ibm_runtime) (3.10)\n",
            "Requirement already satisfied: certifi>=2017.4.17 in /usr/local/lib/python3.11/dist-packages (from requests>=2.19->qiskit_ibm_runtime) (2025.1.31)\n",
            "Requirement already satisfied: cryptography>=1.3 in /usr/local/lib/python3.11/dist-packages (from requests-ntlm>=1.1.0->qiskit_ibm_runtime) (43.0.3)\n",
            "Collecting pyspnego>=0.4.0 (from requests-ntlm>=1.1.0->qiskit_ibm_runtime)\n",
            "  Downloading pyspnego-0.11.2-py3-none-any.whl.metadata (5.4 kB)\n",
            "Requirement already satisfied: cffi>=1.12 in /usr/local/lib/python3.11/dist-packages (from cryptography>=1.3->requests-ntlm>=1.1.0->qiskit_ibm_runtime) (1.17.1)\n",
            "Requirement already satisfied: PyJWT<3.0.0,>=2.8.0 in /usr/local/lib/python3.11/dist-packages (from ibm_cloud_sdk_core<4.0.0,>=3.22.0->ibm-platform-services>=0.22.6->qiskit_ibm_runtime) (2.10.1)\n",
            "Requirement already satisfied: pbr>=2.0.0 in /usr/local/lib/python3.11/dist-packages (from stevedore>=3.0.0->qiskit>=1.3.2->qiskit_ibm_runtime) (6.1.1)\n",
            "Requirement already satisfied: mpmath<1.4,>=1.1.0 in /usr/local/lib/python3.11/dist-packages (from sympy>=1.3->qiskit>=1.3.2->qiskit_ibm_runtime) (1.3.0)\n",
            "Requirement already satisfied: pycparser in /usr/local/lib/python3.11/dist-packages (from cffi>=1.12->cryptography>=1.3->requests-ntlm>=1.1.0->qiskit_ibm_runtime) (2.22)\n",
            "Requirement already satisfied: setuptools in /usr/local/lib/python3.11/dist-packages (from pbr>=2.0.0->stevedore>=3.0.0->qiskit>=1.3.2->qiskit_ibm_runtime) (75.1.0)\n",
            "Downloading qiskit_ibm_runtime-0.36.1-py3-none-any.whl (3.1 MB)\n",
            "\u001b[2K   \u001b[90m━━━━━━━━━━━━━━━━━━━━━━━━━━━━━━━━━━━━━━━━\u001b[0m \u001b[32m3.1/3.1 MB\u001b[0m \u001b[31m27.2 MB/s\u001b[0m eta \u001b[36m0:00:00\u001b[0m\n",
            "\u001b[?25hDownloading ibm_platform_services-0.59.1-py3-none-any.whl (340 kB)\n",
            "\u001b[2K   \u001b[90m━━━━━━━━━━━━━━━━━━━━━━━━━━━━━━━━━━━━━━━━\u001b[0m \u001b[32m340.8/340.8 kB\u001b[0m \u001b[31m18.0 MB/s\u001b[0m eta \u001b[36m0:00:00\u001b[0m\n",
            "\u001b[?25hDownloading pydantic-2.9.2-py3-none-any.whl (434 kB)\n",
            "\u001b[2K   \u001b[90m━━━━━━━━━━━━━━━━━━━━━━━━━━━━━━━━━━━━━━━━\u001b[0m \u001b[32m434.9/434.9 kB\u001b[0m \u001b[31m20.9 MB/s\u001b[0m eta \u001b[36m0:00:00\u001b[0m\n",
            "\u001b[?25hDownloading pydantic_core-2.23.4-cp311-cp311-manylinux_2_17_x86_64.manylinux2014_x86_64.whl (2.1 MB)\n",
            "\u001b[2K   \u001b[90m━━━━━━━━━━━━━━━━━━━━━━━━━━━━━━━━━━━━━━━━\u001b[0m \u001b[32m2.1/2.1 MB\u001b[0m \u001b[31m27.1 MB/s\u001b[0m eta \u001b[36m0:00:00\u001b[0m\n",
            "\u001b[?25hDownloading requests_ntlm-1.3.0-py3-none-any.whl (6.6 kB)\n",
            "Downloading ibm_cloud_sdk_core-3.22.1-py3-none-any.whl (69 kB)\n",
            "\u001b[2K   \u001b[90m━━━━━━━━━━━━━━━━━━━━━━━━━━━━━━━━━━━━━━━━\u001b[0m \u001b[32m69.4/69.4 kB\u001b[0m \u001b[31m2.3 MB/s\u001b[0m eta \u001b[36m0:00:00\u001b[0m\n",
            "\u001b[?25hDownloading pyspnego-0.11.2-py3-none-any.whl (130 kB)\n",
            "\u001b[2K   \u001b[90m━━━━━━━━━━━━━━━━━━━━━━━━━━━━━━━━━━━━━━━━\u001b[0m \u001b[32m130.5/130.5 kB\u001b[0m \u001b[31m4.6 MB/s\u001b[0m eta \u001b[36m0:00:00\u001b[0m\n",
            "\u001b[?25hInstalling collected packages: pydantic-core, pydantic, ibm_cloud_sdk_core, pyspnego, ibm-platform-services, requests-ntlm, qiskit_ibm_runtime\n",
            "  Attempting uninstall: pydantic-core\n",
            "    Found existing installation: pydantic_core 2.27.2\n",
            "    Uninstalling pydantic_core-2.27.2:\n",
            "      Successfully uninstalled pydantic_core-2.27.2\n",
            "  Attempting uninstall: pydantic\n",
            "    Found existing installation: pydantic 2.10.6\n",
            "    Uninstalling pydantic-2.10.6:\n",
            "      Successfully uninstalled pydantic-2.10.6\n",
            "Successfully installed ibm-platform-services-0.59.1 ibm_cloud_sdk_core-3.22.1 pydantic-2.9.2 pydantic-core-2.23.4 pyspnego-0.11.2 qiskit_ibm_runtime-0.36.1 requests-ntlm-1.3.0\n"
          ]
        }
      ]
    },
    {
      "cell_type": "code",
      "execution_count": 42,
      "id": "000b9101-057c-45ae-87b3-396c6f4a9d1c",
      "metadata": {
        "id": "000b9101-057c-45ae-87b3-396c6f4a9d1c",
        "outputId": "09772825-4b7c-4436-e83f-c0482ba24a94",
        "colab": {
          "base_uri": "https://localhost:8080/",
          "height": 373
        }
      },
      "outputs": [
        {
          "output_type": "error",
          "ename": "AccountNotFoundError",
          "evalue": "'Unable to find account.'",
          "traceback": [
            "\u001b[0;31m---------------------------------------------------------------------------\u001b[0m",
            "\u001b[0;31mAccountNotFoundError\u001b[0m                      Traceback (most recent call last)",
            "\u001b[0;32m<ipython-input-42-33dba58eec1c>\u001b[0m in \u001b[0;36m<cell line: 0>\u001b[0;34m()\u001b[0m\n\u001b[1;32m      3\u001b[0m \u001b[0;34m\u001b[0m\u001b[0m\n\u001b[1;32m      4\u001b[0m \u001b[0;31m# Get the least busy backend\u001b[0m\u001b[0;34m\u001b[0m\u001b[0;34m\u001b[0m\u001b[0m\n\u001b[0;32m----> 5\u001b[0;31m \u001b[0mservice\u001b[0m \u001b[0;34m=\u001b[0m \u001b[0mQiskitRuntimeService\u001b[0m\u001b[0;34m(\u001b[0m\u001b[0mchannel\u001b[0m\u001b[0;34m=\u001b[0m\u001b[0;34m\"ibm_quantum\"\u001b[0m\u001b[0;34m)\u001b[0m\u001b[0;34m\u001b[0m\u001b[0;34m\u001b[0m\u001b[0m\n\u001b[0m\u001b[1;32m      6\u001b[0m \u001b[0;31m# backend = service.least_busy(\u001b[0m\u001b[0;34m\u001b[0m\u001b[0;34m\u001b[0m\u001b[0m\n\u001b[1;32m      7\u001b[0m \u001b[0;31m#     operational=True, simulator=False, min_num_qubits=fm.num_qubits\u001b[0m\u001b[0;34m\u001b[0m\u001b[0;34m\u001b[0m\u001b[0m\n",
            "\u001b[0;32m/usr/local/lib/python3.11/dist-packages/qiskit_ibm_runtime/qiskit_runtime_service.py\u001b[0m in \u001b[0;36m__init__\u001b[0;34m(self, channel, token, url, filename, name, instance, proxies, verify, private_endpoint, url_resolver)\u001b[0m\n\u001b[1;32m    123\u001b[0m         \u001b[0msuper\u001b[0m\u001b[0;34m(\u001b[0m\u001b[0;34m)\u001b[0m\u001b[0;34m.\u001b[0m\u001b[0m__init__\u001b[0m\u001b[0;34m(\u001b[0m\u001b[0;34m)\u001b[0m\u001b[0;34m\u001b[0m\u001b[0;34m\u001b[0m\u001b[0m\n\u001b[1;32m    124\u001b[0m \u001b[0;34m\u001b[0m\u001b[0m\n\u001b[0;32m--> 125\u001b[0;31m         self._account = self._discover_account(\n\u001b[0m\u001b[1;32m    126\u001b[0m             \u001b[0mtoken\u001b[0m\u001b[0;34m=\u001b[0m\u001b[0mtoken\u001b[0m\u001b[0;34m,\u001b[0m\u001b[0;34m\u001b[0m\u001b[0;34m\u001b[0m\u001b[0m\n\u001b[1;32m    127\u001b[0m             \u001b[0murl\u001b[0m\u001b[0;34m=\u001b[0m\u001b[0murl\u001b[0m\u001b[0;34m,\u001b[0m\u001b[0;34m\u001b[0m\u001b[0;34m\u001b[0m\u001b[0m\n",
            "\u001b[0;32m/usr/local/lib/python3.11/dist-packages/qiskit_ibm_runtime/qiskit_runtime_service.py\u001b[0m in \u001b[0;36m_discover_account\u001b[0;34m(self, token, url, instance, channel, filename, name, proxies, verify)\u001b[0m\n\u001b[1;32m    218\u001b[0m                 \u001b[0;32mif\u001b[0m \u001b[0murl\u001b[0m\u001b[0;34m:\u001b[0m\u001b[0;34m\u001b[0m\u001b[0;34m\u001b[0m\u001b[0m\n\u001b[1;32m    219\u001b[0m                     \u001b[0mlogger\u001b[0m\u001b[0;34m.\u001b[0m\u001b[0mwarning\u001b[0m\u001b[0;34m(\u001b[0m\u001b[0;34m\"Loading default %s account. Input 'url' is ignored.\"\u001b[0m\u001b[0;34m,\u001b[0m \u001b[0mchannel\u001b[0m\u001b[0;34m)\u001b[0m\u001b[0;34m\u001b[0m\u001b[0;34m\u001b[0m\u001b[0m\n\u001b[0;32m--> 220\u001b[0;31m                 \u001b[0maccount\u001b[0m \u001b[0;34m=\u001b[0m \u001b[0mAccountManager\u001b[0m\u001b[0;34m.\u001b[0m\u001b[0mget\u001b[0m\u001b[0;34m(\u001b[0m\u001b[0mfilename\u001b[0m\u001b[0;34m=\u001b[0m\u001b[0mfilename\u001b[0m\u001b[0;34m,\u001b[0m \u001b[0mname\u001b[0m\u001b[0;34m=\u001b[0m\u001b[0mname\u001b[0m\u001b[0;34m,\u001b[0m \u001b[0mchannel\u001b[0m\u001b[0;34m=\u001b[0m\u001b[0mchannel\u001b[0m\u001b[0;34m)\u001b[0m\u001b[0;34m\u001b[0m\u001b[0;34m\u001b[0m\u001b[0m\n\u001b[0m\u001b[1;32m    221\u001b[0m         \u001b[0;32melif\u001b[0m \u001b[0many\u001b[0m\u001b[0;34m(\u001b[0m\u001b[0;34m[\u001b[0m\u001b[0mtoken\u001b[0m\u001b[0;34m,\u001b[0m \u001b[0murl\u001b[0m\u001b[0;34m]\u001b[0m\u001b[0;34m)\u001b[0m\u001b[0;34m:\u001b[0m\u001b[0;34m\u001b[0m\u001b[0;34m\u001b[0m\u001b[0m\n\u001b[1;32m    222\u001b[0m             \u001b[0;31m# Let's not infer based on these attributes as they may change in the future.\u001b[0m\u001b[0;34m\u001b[0m\u001b[0;34m\u001b[0m\u001b[0m\n",
            "\u001b[0;32m/usr/local/lib/python3.11/dist-packages/qiskit_ibm_runtime/accounts/management.py\u001b[0m in \u001b[0;36mget\u001b[0;34m(cls, filename, name, channel)\u001b[0m\n\u001b[1;32m    193\u001b[0m                 \u001b[0;32mreturn\u001b[0m \u001b[0mAccount\u001b[0m\u001b[0;34m.\u001b[0m\u001b[0mfrom_saved_format\u001b[0m\u001b[0;34m(\u001b[0m\u001b[0mall_config\u001b[0m\u001b[0;34m[\u001b[0m\u001b[0maccount_name\u001b[0m\u001b[0;34m]\u001b[0m\u001b[0;34m)\u001b[0m\u001b[0;34m\u001b[0m\u001b[0;34m\u001b[0m\u001b[0m\n\u001b[1;32m    194\u001b[0m \u001b[0;34m\u001b[0m\u001b[0m\n\u001b[0;32m--> 195\u001b[0;31m         \u001b[0;32mraise\u001b[0m \u001b[0mAccountNotFoundError\u001b[0m\u001b[0;34m(\u001b[0m\u001b[0;34m\"Unable to find account.\"\u001b[0m\u001b[0;34m)\u001b[0m\u001b[0;34m\u001b[0m\u001b[0;34m\u001b[0m\u001b[0m\n\u001b[0m\u001b[1;32m    196\u001b[0m \u001b[0;34m\u001b[0m\u001b[0m\n\u001b[1;32m    197\u001b[0m     \u001b[0;34m@\u001b[0m\u001b[0mclassmethod\u001b[0m\u001b[0;34m\u001b[0m\u001b[0;34m\u001b[0m\u001b[0m\n",
            "\u001b[0;31mAccountNotFoundError\u001b[0m: 'Unable to find account.'"
          ]
        }
      ],
      "source": [
        "# Import needed packages\n",
        "from qiskit_ibm_runtime import QiskitRuntimeService\n",
        "\n",
        "# Get the least busy backend\n",
        "service = QiskitRuntimeService(channel=\"ibm_quantum\")\n",
        "# backend = service.least_busy(\n",
        "#     operational=True, simulator=False, min_num_qubits=fm.num_qubits\n",
        "# )\n",
        "\n",
        "backend = service.backend('ibm_strasbourg')  # You can change the backend\n",
        "\n",
        "print(backend)"
      ]
    },
    {
      "cell_type": "code",
      "execution_count": null,
      "id": "719dcbfc-3da8-47e8-9f8e-e2aba31e5f20",
      "metadata": {
        "id": "719dcbfc-3da8-47e8-9f8e-e2aba31e5f20"
      },
      "outputs": [],
      "source": [
        "# Apply level 3 optimization to our overlap circuit\n",
        "from qiskit.transpiler.preset_passmanagers import generate_preset_pass_manager\n",
        "\n",
        "pm = generate_preset_pass_manager(optimization_level=3, backend=backend)\n",
        "overlap_ibm = pm.run(overlap_circ)"
      ]
    },
    {
      "cell_type": "code",
      "execution_count": null,
      "id": "f691c3a7-7e64-4f64-8c7a-e37ef17c1ed9",
      "metadata": {
        "id": "f691c3a7-7e64-4f64-8c7a-e37ef17c1ed9"
      },
      "outputs": [],
      "source": [
        "print(\"circuit depth = \", overlap_ibm.depth())\n",
        "print(f\"{overlap_ibm.depth(lambda x: x.operation.num_qubits == 2)}\")\n",
        "overlap_ibm.draw(idle_wires=False)"
      ]
    },
    {
      "cell_type": "markdown",
      "id": "27310055-51d2-4c2c-a33e-630a454769df",
      "metadata": {
        "id": "27310055-51d2-4c2c-a33e-630a454769df"
      },
      "source": [
        "### Step 3: Execute using Qiskit Runtime Primitives\n",
        "\n",
        "The syntax for running on a simulator is commented out below. For this dataset, with a small number of features, running on a simulator is still an option. For utility-scale calculations, simulation is not typically feasible. Simulators should only be used to debug scaled-down code."
      ]
    },
    {
      "cell_type": "code",
      "execution_count": null,
      "id": "fa459cd7-1708-4072-a381-509432928c59",
      "metadata": {
        "id": "fa459cd7-1708-4072-a381-509432928c59"
      },
      "outputs": [],
      "source": [
        "# Run this for a simulator\n",
        "from qiskit.primitives import StatevectorSampler\n",
        "from qiskit_ibm_runtime import Options, Session, Sampler\n",
        "\n",
        "num_shots = 10000\n",
        "\n",
        "# Evaluate the problem using state vector-based primitives from Qiskit\n",
        "sampler = StatevectorSampler()\n",
        "job = sampler.run([overlap_circ], shots=num_shots)\n",
        "results = job.result()\n",
        "# .get_counts() returns counts associated with a state labeled by bit results such as |001101...01>.\n",
        "counts_bit = results[0].data.meas.get_counts()"
      ]
    },
    {
      "cell_type": "markdown",
      "id": "5fd6bf14-ce23-4f04-9a45-9863a6d2e461",
      "metadata": {
        "id": "5fd6bf14-ce23-4f04-9a45-9863a6d2e461"
      },
      "source": [
        "### Step 4: Post-process, return result in classical format\n",
        "\n",
        "As described in the introduction, the most useful measurement here is the probability of measuring the all zero state ∣000...00⟩."
      ]
    },
    {
      "cell_type": "code",
      "execution_count": null,
      "id": "da2284a2-b17f-4560-9d74-435ce215d816",
      "metadata": {
        "id": "da2284a2-b17f-4560-9d74-435ce215d816"
      },
      "outputs": [],
      "source": [
        "counts_bit.get('0'*len(train_data[0]))/num_shots"
      ]
    },
    {
      "cell_type": "code",
      "execution_count": null,
      "id": "1f056315-f8f7-495f-96a6-8f6d24bd2f42",
      "metadata": {
        "scrolled": true,
        "id": "1f056315-f8f7-495f-96a6-8f6d24bd2f42"
      },
      "outputs": [],
      "source": [
        "from qiskit.visualization import plot_histogram\n",
        "plot_histogram(counts_bit)"
      ]
    },
    {
      "cell_type": "markdown",
      "id": "798394c8-ca75-49d4-8b16-ac05f852f2db",
      "metadata": {
        "id": "798394c8-ca75-49d4-8b16-ac05f852f2db"
      },
      "source": [
        "It's hard to read with too many bitstrings. Let's use the following functions to show the top 10 bitstrings."
      ]
    },
    {
      "cell_type": "code",
      "execution_count": null,
      "id": "424a02b2-f9eb-4711-ade2-d25be96164c5",
      "metadata": {
        "id": "424a02b2-f9eb-4711-ade2-d25be96164c5"
      },
      "outputs": [],
      "source": [
        "plot_histogram(data=counts_bit, sort='value_desc', number_to_keep=10)"
      ]
    },
    {
      "cell_type": "markdown",
      "id": "3f6c35ca-e754-4ef6-a7e0-75bf81d9bc2c",
      "metadata": {
        "id": "3f6c35ca-e754-4ef6-a7e0-75bf81d9bc2c"
      },
      "source": [
        "## Full kernel matrix\n",
        "\n",
        "Let's move on to calculating the full kernel matrix"
      ]
    },
    {
      "cell_type": "markdown",
      "id": "497aac51-a53c-4749-a597-29b5ea4ea824",
      "metadata": {
        "id": "497aac51-a53c-4749-a597-29b5ea4ea824"
      },
      "source": [
        "### Step 1: Map classical inputs to a quantum problem"
      ]
    },
    {
      "cell_type": "code",
      "execution_count": 43,
      "id": "1c52d7e5-b90a-4969-9d39-7b4d7c581f51",
      "metadata": {
        "id": "1c52d7e5-b90a-4969-9d39-7b4d7c581f51",
        "outputId": "c99d0c4f-eae9-47c6-83ca-a230297289c1",
        "colab": {
          "base_uri": "https://localhost:8080/"
        }
      },
      "outputs": [
        {
          "output_type": "execute_result",
          "data": {
            "text/plain": [
              "128"
            ]
          },
          "metadata": {},
          "execution_count": 43
        }
      ],
      "source": [
        "# Total number of data points in this data set\n",
        "len(df)"
      ]
    },
    {
      "cell_type": "markdown",
      "id": "0ae0c66e-0901-400a-a35a-5f054efa7c4e",
      "metadata": {
        "id": "0ae0c66e-0901-400a-a35a-5f054efa7c4e"
      },
      "source": [
        "Let's divide the data set into training data and testing data."
      ]
    },
    {
      "cell_type": "code",
      "execution_count": 44,
      "id": "74a07745-05df-4aa6-b738-4b09e044c3c0",
      "metadata": {
        "id": "74a07745-05df-4aa6-b738-4b09e044c3c0"
      },
      "outputs": [],
      "source": [
        "# Prepare training data\n",
        "train_size = 30\n",
        "X_train=df.values[0:train_size,:-1]\n",
        "train_labels = df.values[0:train_size,-1]\n",
        "\n",
        "# Prepare testing data\n",
        "test_size = 10\n",
        "X_test=df.values[train_size:train_size+test_size,:-1]\n",
        "test_labels=df.values[train_size:train_size+test_size,-1]"
      ]
    },
    {
      "cell_type": "code",
      "execution_count": 45,
      "id": "8d52d837-fee3-4d66-9040-c5ba56068813",
      "metadata": {
        "id": "8d52d837-fee3-4d66-9040-c5ba56068813",
        "outputId": "fdea3141-f599-4361-be75-b7b753eef3d8",
        "colab": {
          "base_uri": "https://localhost:8080/"
        }
      },
      "outputs": [
        {
          "output_type": "execute_result",
          "data": {
            "text/plain": [
              "30"
            ]
          },
          "metadata": {},
          "execution_count": 45
        }
      ],
      "source": [
        "# Create empty kernel matrix\n",
        "num_samples = np.shape(X_train)[0]\n",
        "num_samples"
      ]
    },
    {
      "cell_type": "code",
      "execution_count": 46,
      "id": "4a12fb7a-abf4-42b4-9bca-809e9593ebac",
      "metadata": {
        "id": "4a12fb7a-abf4-42b4-9bca-809e9593ebac",
        "outputId": "b0642389-74b4-401d-a138-e5b9cd041e6e",
        "colab": {
          "base_uri": "https://localhost:8080/"
        }
      },
      "outputs": [
        {
          "output_type": "stream",
          "name": "stdout",
          "text": [
            "(30, 30)\n"
          ]
        },
        {
          "output_type": "execute_result",
          "data": {
            "text/plain": [
              "array([[nan, nan, nan, nan, nan, nan, nan, nan, nan, nan, nan, nan, nan,\n",
              "        nan, nan, nan, nan, nan, nan, nan, nan, nan, nan, nan, nan, nan,\n",
              "        nan, nan, nan, nan],\n",
              "       [nan, nan, nan, nan, nan, nan, nan, nan, nan, nan, nan, nan, nan,\n",
              "        nan, nan, nan, nan, nan, nan, nan, nan, nan, nan, nan, nan, nan,\n",
              "        nan, nan, nan, nan],\n",
              "       [nan, nan, nan, nan, nan, nan, nan, nan, nan, nan, nan, nan, nan,\n",
              "        nan, nan, nan, nan, nan, nan, nan, nan, nan, nan, nan, nan, nan,\n",
              "        nan, nan, nan, nan],\n",
              "       [nan, nan, nan, nan, nan, nan, nan, nan, nan, nan, nan, nan, nan,\n",
              "        nan, nan, nan, nan, nan, nan, nan, nan, nan, nan, nan, nan, nan,\n",
              "        nan, nan, nan, nan],\n",
              "       [nan, nan, nan, nan, nan, nan, nan, nan, nan, nan, nan, nan, nan,\n",
              "        nan, nan, nan, nan, nan, nan, nan, nan, nan, nan, nan, nan, nan,\n",
              "        nan, nan, nan, nan],\n",
              "       [nan, nan, nan, nan, nan, nan, nan, nan, nan, nan, nan, nan, nan,\n",
              "        nan, nan, nan, nan, nan, nan, nan, nan, nan, nan, nan, nan, nan,\n",
              "        nan, nan, nan, nan],\n",
              "       [nan, nan, nan, nan, nan, nan, nan, nan, nan, nan, nan, nan, nan,\n",
              "        nan, nan, nan, nan, nan, nan, nan, nan, nan, nan, nan, nan, nan,\n",
              "        nan, nan, nan, nan],\n",
              "       [nan, nan, nan, nan, nan, nan, nan, nan, nan, nan, nan, nan, nan,\n",
              "        nan, nan, nan, nan, nan, nan, nan, nan, nan, nan, nan, nan, nan,\n",
              "        nan, nan, nan, nan],\n",
              "       [nan, nan, nan, nan, nan, nan, nan, nan, nan, nan, nan, nan, nan,\n",
              "        nan, nan, nan, nan, nan, nan, nan, nan, nan, nan, nan, nan, nan,\n",
              "        nan, nan, nan, nan],\n",
              "       [nan, nan, nan, nan, nan, nan, nan, nan, nan, nan, nan, nan, nan,\n",
              "        nan, nan, nan, nan, nan, nan, nan, nan, nan, nan, nan, nan, nan,\n",
              "        nan, nan, nan, nan],\n",
              "       [nan, nan, nan, nan, nan, nan, nan, nan, nan, nan, nan, nan, nan,\n",
              "        nan, nan, nan, nan, nan, nan, nan, nan, nan, nan, nan, nan, nan,\n",
              "        nan, nan, nan, nan],\n",
              "       [nan, nan, nan, nan, nan, nan, nan, nan, nan, nan, nan, nan, nan,\n",
              "        nan, nan, nan, nan, nan, nan, nan, nan, nan, nan, nan, nan, nan,\n",
              "        nan, nan, nan, nan],\n",
              "       [nan, nan, nan, nan, nan, nan, nan, nan, nan, nan, nan, nan, nan,\n",
              "        nan, nan, nan, nan, nan, nan, nan, nan, nan, nan, nan, nan, nan,\n",
              "        nan, nan, nan, nan],\n",
              "       [nan, nan, nan, nan, nan, nan, nan, nan, nan, nan, nan, nan, nan,\n",
              "        nan, nan, nan, nan, nan, nan, nan, nan, nan, nan, nan, nan, nan,\n",
              "        nan, nan, nan, nan],\n",
              "       [nan, nan, nan, nan, nan, nan, nan, nan, nan, nan, nan, nan, nan,\n",
              "        nan, nan, nan, nan, nan, nan, nan, nan, nan, nan, nan, nan, nan,\n",
              "        nan, nan, nan, nan],\n",
              "       [nan, nan, nan, nan, nan, nan, nan, nan, nan, nan, nan, nan, nan,\n",
              "        nan, nan, nan, nan, nan, nan, nan, nan, nan, nan, nan, nan, nan,\n",
              "        nan, nan, nan, nan],\n",
              "       [nan, nan, nan, nan, nan, nan, nan, nan, nan, nan, nan, nan, nan,\n",
              "        nan, nan, nan, nan, nan, nan, nan, nan, nan, nan, nan, nan, nan,\n",
              "        nan, nan, nan, nan],\n",
              "       [nan, nan, nan, nan, nan, nan, nan, nan, nan, nan, nan, nan, nan,\n",
              "        nan, nan, nan, nan, nan, nan, nan, nan, nan, nan, nan, nan, nan,\n",
              "        nan, nan, nan, nan],\n",
              "       [nan, nan, nan, nan, nan, nan, nan, nan, nan, nan, nan, nan, nan,\n",
              "        nan, nan, nan, nan, nan, nan, nan, nan, nan, nan, nan, nan, nan,\n",
              "        nan, nan, nan, nan],\n",
              "       [nan, nan, nan, nan, nan, nan, nan, nan, nan, nan, nan, nan, nan,\n",
              "        nan, nan, nan, nan, nan, nan, nan, nan, nan, nan, nan, nan, nan,\n",
              "        nan, nan, nan, nan],\n",
              "       [nan, nan, nan, nan, nan, nan, nan, nan, nan, nan, nan, nan, nan,\n",
              "        nan, nan, nan, nan, nan, nan, nan, nan, nan, nan, nan, nan, nan,\n",
              "        nan, nan, nan, nan],\n",
              "       [nan, nan, nan, nan, nan, nan, nan, nan, nan, nan, nan, nan, nan,\n",
              "        nan, nan, nan, nan, nan, nan, nan, nan, nan, nan, nan, nan, nan,\n",
              "        nan, nan, nan, nan],\n",
              "       [nan, nan, nan, nan, nan, nan, nan, nan, nan, nan, nan, nan, nan,\n",
              "        nan, nan, nan, nan, nan, nan, nan, nan, nan, nan, nan, nan, nan,\n",
              "        nan, nan, nan, nan],\n",
              "       [nan, nan, nan, nan, nan, nan, nan, nan, nan, nan, nan, nan, nan,\n",
              "        nan, nan, nan, nan, nan, nan, nan, nan, nan, nan, nan, nan, nan,\n",
              "        nan, nan, nan, nan],\n",
              "       [nan, nan, nan, nan, nan, nan, nan, nan, nan, nan, nan, nan, nan,\n",
              "        nan, nan, nan, nan, nan, nan, nan, nan, nan, nan, nan, nan, nan,\n",
              "        nan, nan, nan, nan],\n",
              "       [nan, nan, nan, nan, nan, nan, nan, nan, nan, nan, nan, nan, nan,\n",
              "        nan, nan, nan, nan, nan, nan, nan, nan, nan, nan, nan, nan, nan,\n",
              "        nan, nan, nan, nan],\n",
              "       [nan, nan, nan, nan, nan, nan, nan, nan, nan, nan, nan, nan, nan,\n",
              "        nan, nan, nan, nan, nan, nan, nan, nan, nan, nan, nan, nan, nan,\n",
              "        nan, nan, nan, nan],\n",
              "       [nan, nan, nan, nan, nan, nan, nan, nan, nan, nan, nan, nan, nan,\n",
              "        nan, nan, nan, nan, nan, nan, nan, nan, nan, nan, nan, nan, nan,\n",
              "        nan, nan, nan, nan],\n",
              "       [nan, nan, nan, nan, nan, nan, nan, nan, nan, nan, nan, nan, nan,\n",
              "        nan, nan, nan, nan, nan, nan, nan, nan, nan, nan, nan, nan, nan,\n",
              "        nan, nan, nan, nan],\n",
              "       [nan, nan, nan, nan, nan, nan, nan, nan, nan, nan, nan, nan, nan,\n",
              "        nan, nan, nan, nan, nan, nan, nan, nan, nan, nan, nan, nan, nan,\n",
              "        nan, nan, nan, nan]])"
            ]
          },
          "metadata": {},
          "execution_count": 46
        }
      ],
      "source": [
        "kernel_matrix = np.full((num_samples, num_samples), np.nan)\n",
        "print(kernel_matrix.shape)\n",
        "kernel_matrix"
      ]
    },
    {
      "cell_type": "code",
      "execution_count": 47,
      "id": "b8c22c58-c5e8-407d-a2b5-46b7adc7ccca",
      "metadata": {
        "id": "b8c22c58-c5e8-407d-a2b5-46b7adc7ccca",
        "outputId": "842d64e4-f476-495b-a3a9-ef285f82911e",
        "colab": {
          "base_uri": "https://localhost:8080/"
        }
      },
      "outputs": [
        {
          "output_type": "stream",
          "name": "stdout",
          "text": [
            "(10, 30)\n"
          ]
        },
        {
          "output_type": "execute_result",
          "data": {
            "text/plain": [
              "array([[nan, nan, nan, nan, nan, nan, nan, nan, nan, nan, nan, nan, nan,\n",
              "        nan, nan, nan, nan, nan, nan, nan, nan, nan, nan, nan, nan, nan,\n",
              "        nan, nan, nan, nan],\n",
              "       [nan, nan, nan, nan, nan, nan, nan, nan, nan, nan, nan, nan, nan,\n",
              "        nan, nan, nan, nan, nan, nan, nan, nan, nan, nan, nan, nan, nan,\n",
              "        nan, nan, nan, nan],\n",
              "       [nan, nan, nan, nan, nan, nan, nan, nan, nan, nan, nan, nan, nan,\n",
              "        nan, nan, nan, nan, nan, nan, nan, nan, nan, nan, nan, nan, nan,\n",
              "        nan, nan, nan, nan],\n",
              "       [nan, nan, nan, nan, nan, nan, nan, nan, nan, nan, nan, nan, nan,\n",
              "        nan, nan, nan, nan, nan, nan, nan, nan, nan, nan, nan, nan, nan,\n",
              "        nan, nan, nan, nan],\n",
              "       [nan, nan, nan, nan, nan, nan, nan, nan, nan, nan, nan, nan, nan,\n",
              "        nan, nan, nan, nan, nan, nan, nan, nan, nan, nan, nan, nan, nan,\n",
              "        nan, nan, nan, nan],\n",
              "       [nan, nan, nan, nan, nan, nan, nan, nan, nan, nan, nan, nan, nan,\n",
              "        nan, nan, nan, nan, nan, nan, nan, nan, nan, nan, nan, nan, nan,\n",
              "        nan, nan, nan, nan],\n",
              "       [nan, nan, nan, nan, nan, nan, nan, nan, nan, nan, nan, nan, nan,\n",
              "        nan, nan, nan, nan, nan, nan, nan, nan, nan, nan, nan, nan, nan,\n",
              "        nan, nan, nan, nan],\n",
              "       [nan, nan, nan, nan, nan, nan, nan, nan, nan, nan, nan, nan, nan,\n",
              "        nan, nan, nan, nan, nan, nan, nan, nan, nan, nan, nan, nan, nan,\n",
              "        nan, nan, nan, nan],\n",
              "       [nan, nan, nan, nan, nan, nan, nan, nan, nan, nan, nan, nan, nan,\n",
              "        nan, nan, nan, nan, nan, nan, nan, nan, nan, nan, nan, nan, nan,\n",
              "        nan, nan, nan, nan],\n",
              "       [nan, nan, nan, nan, nan, nan, nan, nan, nan, nan, nan, nan, nan,\n",
              "        nan, nan, nan, nan, nan, nan, nan, nan, nan, nan, nan, nan, nan,\n",
              "        nan, nan, nan, nan]])"
            ]
          },
          "metadata": {},
          "execution_count": 47
        }
      ],
      "source": [
        "test_matrix = np.full((test_size, num_samples), np.nan)\n",
        "print(test_matrix.shape)\n",
        "test_matrix"
      ]
    },
    {
      "cell_type": "code",
      "execution_count": 48,
      "id": "528830e7-4f3a-4a36-989b-19b95d61642b",
      "metadata": {
        "id": "528830e7-4f3a-4a36-989b-19b95d61642b",
        "outputId": "d8e9e8f5-70fc-489b-eeb7-501cab707596",
        "colab": {
          "base_uri": "https://localhost:8080/"
        }
      },
      "outputs": [
        {
          "output_type": "stream",
          "name": "stdout",
          "text": [
            "Number of features: 14\n",
            "Number of qubits: 7\n"
          ]
        }
      ],
      "source": [
        "from qiskit.circuit import Parameter, ParameterVector, QuantumCircuit\n",
        "\n",
        "# Prepare feature map for computing overlap\n",
        "num_features = np.shape(X_train)[1]\n",
        "num_qubits = int(num_features / 2)\n",
        "print(f\"Number of features: {num_features}\")\n",
        "print(f\"Number of qubits: {num_qubits}\")"
      ]
    },
    {
      "cell_type": "code",
      "execution_count": 50,
      "id": "69564f7d-2999-4468-a1e1-858eb0c19a16",
      "metadata": {
        "id": "69564f7d-2999-4468-a1e1-858eb0c19a16",
        "outputId": "35748e20-a6a8-4f2e-c0bf-f9510a04f154",
        "colab": {
          "base_uri": "https://localhost:8080/",
          "height": 479
        }
      },
      "outputs": [
        {
          "output_type": "execute_result",
          "data": {
            "text/plain": [
              "     ┌───────┐   ┌─────────────┐┌─────────────┐                                »\n",
              "q_0: ┤ Ry(θ) ├─■─┤ Rz(-2*x[1]) ├┤ Rx(-2*x[0]) ├────────────────────────────────»\n",
              "     ├───────┤ │ └─────────────┘└─────────────┘ ┌─────────────┐┌─────────────┐ »\n",
              "q_1: ┤ Ry(θ) ├─┼───────────────────────■────────┤ Rz(-2*x[3]) ├┤ Rx(-2*x[2]) ├─»\n",
              "     ├───────┤ │                       │        └─────────────┘├─────────────┤ »\n",
              "q_2: ┤ Ry(θ) ├─■────────■──────────────┼───────────────■───────┤ Rz(-2*x[5]) ├─»\n",
              "     ├───────┤          │              │               │       ├─────────────┤ »\n",
              "q_3: ┤ Ry(θ) ├─■────────┼──────────────┼───────────────■───────┤ Rz(-2*x[7]) ├─»\n",
              "     ├───────┤ │        │              │                       ├─────────────┤ »\n",
              "q_4: ┤ Ry(θ) ├─■────────┼──────────────■───────────────■───────┤ Rz(-2*x[9]) ├─»\n",
              "     ├───────┤          │       ┌──────────────┐       │       ├─────────────┴┐»\n",
              "q_5: ┤ Ry(θ) ├──────────■───────┤ Rz(-2*x[11]) ├───────┼───────┤ Rx(-2*x[10]) ├»\n",
              "     ├───────┤                  └──────────────┘       │       ├──────────────┤»\n",
              "q_6: ┤ Ry(θ) ├─────────────────────────────────────────■───────┤ Rz(-2*x[13]) ├»\n",
              "     └───────┘                                                 └──────────────┘»\n",
              "«                     \n",
              "«q_0: ────────────────\n",
              "«                     \n",
              "«q_1: ────────────────\n",
              "«     ┌─────────────┐ \n",
              "«q_2: ┤ Rx(-2*x[4]) ├─\n",
              "«     ├─────────────┤ \n",
              "«q_3: ┤ Rx(-2*x[6]) ├─\n",
              "«     ├─────────────┤ \n",
              "«q_4: ┤ Rx(-2*x[8]) ├─\n",
              "«     └─────────────┘ \n",
              "«q_5: ────────────────\n",
              "«     ┌──────────────┐\n",
              "«q_6: ┤ Rx(-2*x[12]) ├\n",
              "«     └──────────────┘"
            ],
            "text/html": [
              "<pre style=\"word-wrap: normal;white-space: pre;background: #fff0;line-height: 1.1;font-family: &quot;Courier New&quot;,Courier,monospace\">     ┌───────┐   ┌─────────────┐┌─────────────┐                                »\n",
              "q_0: ┤ Ry(θ) ├─■─┤ Rz(-2*x[1]) ├┤ Rx(-2*x[0]) ├────────────────────────────────»\n",
              "     ├───────┤ │ └─────────────┘└─────────────┘ ┌─────────────┐┌─────────────┐ »\n",
              "q_1: ┤ Ry(θ) ├─┼───────────────────────■────────┤ Rz(-2*x[3]) ├┤ Rx(-2*x[2]) ├─»\n",
              "     ├───────┤ │                       │        └─────────────┘├─────────────┤ »\n",
              "q_2: ┤ Ry(θ) ├─■────────■──────────────┼───────────────■───────┤ Rz(-2*x[5]) ├─»\n",
              "     ├───────┤          │              │               │       ├─────────────┤ »\n",
              "q_3: ┤ Ry(θ) ├─■────────┼──────────────┼───────────────■───────┤ Rz(-2*x[7]) ├─»\n",
              "     ├───────┤ │        │              │                       ├─────────────┤ »\n",
              "q_4: ┤ Ry(θ) ├─■────────┼──────────────■───────────────■───────┤ Rz(-2*x[9]) ├─»\n",
              "     ├───────┤          │       ┌──────────────┐       │       ├─────────────┴┐»\n",
              "q_5: ┤ Ry(θ) ├──────────■───────┤ Rz(-2*x[11]) ├───────┼───────┤ Rx(-2*x[10]) ├»\n",
              "     ├───────┤                  └──────────────┘       │       ├──────────────┤»\n",
              "q_6: ┤ Ry(θ) ├─────────────────────────────────────────■───────┤ Rz(-2*x[13]) ├»\n",
              "     └───────┘                                                 └──────────────┘»\n",
              "«                     \n",
              "«q_0: ────────────────\n",
              "«                     \n",
              "«q_1: ────────────────\n",
              "«     ┌─────────────┐ \n",
              "«q_2: ┤ Rx(-2*x[4]) ├─\n",
              "«     ├─────────────┤ \n",
              "«q_3: ┤ Rx(-2*x[6]) ├─\n",
              "«     ├─────────────┤ \n",
              "«q_4: ┤ Rx(-2*x[8]) ├─\n",
              "«     └─────────────┘ \n",
              "«q_5: ────────────────\n",
              "«     ┌──────────────┐\n",
              "«q_6: ┤ Rx(-2*x[12]) ├\n",
              "«     └──────────────┘</pre>"
            ]
          },
          "metadata": {},
          "execution_count": 50
        }
      ],
      "source": [
        "# To use a custom feature map use the lines below.\n",
        "\n",
        "entangler_map = [[0, 2], [3, 4], [2, 5], [1, 4], [2, 3], [4, 6]]\n",
        "\n",
        "fm = QuantumCircuit(num_qubits)\n",
        "training_param = Parameter(\"θ\")\n",
        "feature_params = ParameterVector(\"x\", num_qubits * 2)\n",
        "fm.ry(training_param, fm.qubits)\n",
        "for cz in entangler_map:\n",
        "    fm.cz(cz[0], cz[1])\n",
        "for i in range(num_qubits):\n",
        "    fm.rz(-2 * feature_params[2 * i + 1], i)\n",
        "    fm.rx(-2 * feature_params[2 * i], i)\n",
        "\n",
        "fm.draw()"
      ]
    },
    {
      "cell_type": "markdown",
      "id": "839e06a7-14ee-4031-9c1f-70776db965f3",
      "metadata": {
        "id": "839e06a7-14ee-4031-9c1f-70776db965f3"
      },
      "source": [
        "### Step 2 & 3: Optimize problem & execute using primitives"
      ]
    },
    {
      "cell_type": "code",
      "execution_count": 51,
      "id": "1c655026-1aee-4350-9b5a-a483cdbd4dba",
      "metadata": {
        "id": "1c655026-1aee-4350-9b5a-a483cdbd4dba"
      },
      "outputs": [],
      "source": [
        "def create_training_overlap_circuit_list(train_size, X_train, feature_map):\n",
        "    training_overlap_circ_list = [\n",
        "        UnitaryOverlap(\n",
        "            feature_map.assign_parameters(list(X_train[x1]) + [np.pi / 2]),\n",
        "            feature_map.assign_parameters(list(X_train[x2]) + [np.pi / 2])\n",
        "        )\n",
        "        for x1 in range(train_size) for x2 in range(x1 + 1, train_size)\n",
        "    ]\n",
        "\n",
        "    for circuit in training_overlap_circ_list:\n",
        "        circuit.measure_all()\n",
        "\n",
        "    return training_overlap_circ_list\n",
        "\n",
        "\n",
        "def create_testing_overlap_circuit_list(test_size, train_size, X_test, X_train, feature_map):\n",
        "    testing_overlap_circ_list = [\n",
        "        UnitaryOverlap(\n",
        "            feature_map.assign_parameters(list(X_test[x1]) + [np.pi / 2]),\n",
        "            feature_map.assign_parameters(list(X_train[x2]) + [np.pi / 2])\n",
        "        )\n",
        "        for x1 in range(test_size) for x2 in range(train_size)\n",
        "    ]\n",
        "\n",
        "    for circuit in testing_overlap_circ_list:\n",
        "        circuit.measure_all()\n",
        "\n",
        "    return testing_overlap_circ_list\n",
        "\n",
        "\n",
        "def compute_overlap_matrix(results, size1, size2, is_symmetric=False):\n",
        "    \"\"\"\n",
        "    Compute the kernel or test matrix from the sampler results.\n",
        "\n",
        "    Parameters:\n",
        "    - results: The result object from sampler.run()\n",
        "    - size1: Number of rows in the matrix (train_size or test_size)\n",
        "    - size2: Number of columns in the matrix (train_size)\n",
        "    - is_symmetric: If True, fills a symmetric kernel matrix.\n",
        "\n",
        "    Returns:\n",
        "    - A numpy array representing the computed overlap matrix.\n",
        "    \"\"\"\n",
        "    overlap_matrix = np.zeros((size1, size2))\n",
        "    idx = 0\n",
        "\n",
        "    for x1 in range(size1):\n",
        "        for x2 in range(x1 + 1, size2) if is_symmetric else range(size2):\n",
        "            counts = results[idx].data.meas.get_int_counts()\n",
        "            prob_0 = counts.get(0, 0.0) / num_shots\n",
        "\n",
        "            overlap_matrix[x1, x2] = prob_0\n",
        "\n",
        "            if is_symmetric:\n",
        "                overlap_matrix[x2, x1] = prob_0  # Mirror value for symmetry\n",
        "\n",
        "            idx += 1\n",
        "\n",
        "        if is_symmetric:\n",
        "            overlap_matrix[x1, x1] = 1  # Diagonal elements should be 1 for training data\n",
        "\n",
        "    return overlap_matrix"
      ]
    },
    {
      "cell_type": "code",
      "execution_count": 52,
      "id": "031a042a-b794-4e16-929d-7660096b87fc",
      "metadata": {
        "id": "031a042a-b794-4e16-929d-7660096b87fc"
      },
      "outputs": [],
      "source": [
        "# Running on a simulator\n",
        "from qiskit.primitives import StatevectorSampler\n",
        "\n",
        "# Evaluate the problem using state vector-based primitives from Qiskit.\n",
        "sampler = StatevectorSampler()\n",
        "num_shots = 10000"
      ]
    },
    {
      "cell_type": "code",
      "execution_count": 55,
      "id": "04153c80-ed66-450e-b694-a6489add7060",
      "metadata": {
        "id": "04153c80-ed66-450e-b694-a6489add7060",
        "outputId": "da6e5323-99ac-4665-952c-ce5950aeb5e5",
        "colab": {
          "base_uri": "https://localhost:8080/",
          "height": 193
        }
      },
      "outputs": [
        {
          "output_type": "error",
          "ename": "NameError",
          "evalue": "name 'backend' is not defined",
          "traceback": [
            "\u001b[0;31m---------------------------------------------------------------------------\u001b[0m",
            "\u001b[0;31mNameError\u001b[0m                                 Traceback (most recent call last)",
            "\u001b[0;32m<ipython-input-55-a600bfd7a96d>\u001b[0m in \u001b[0;36m<cell line: 0>\u001b[0;34m()\u001b[0m\n\u001b[1;32m      1\u001b[0m \u001b[0;31m# # Running on a real hardware\u001b[0m\u001b[0;34m\u001b[0m\u001b[0;34m\u001b[0m\u001b[0m\n\u001b[1;32m      2\u001b[0m \u001b[0;32mfrom\u001b[0m \u001b[0mqiskit_ibm_runtime\u001b[0m \u001b[0;32mimport\u001b[0m \u001b[0mSamplerV2\u001b[0m \u001b[0;32mas\u001b[0m \u001b[0mSampler\u001b[0m\u001b[0;34m\u001b[0m\u001b[0;34m\u001b[0m\u001b[0m\n\u001b[0;32m----> 3\u001b[0;31m \u001b[0mbackend\u001b[0m\u001b[0;34m\u001b[0m\u001b[0;34m\u001b[0m\u001b[0m\n\u001b[0m\u001b[1;32m      4\u001b[0m \u001b[0msampler\u001b[0m \u001b[0;34m=\u001b[0m \u001b[0mSampler\u001b[0m\u001b[0;34m(\u001b[0m\u001b[0mmode\u001b[0m\u001b[0;34m=\u001b[0m\u001b[0mbackend\u001b[0m\u001b[0;34m)\u001b[0m\u001b[0;34m\u001b[0m\u001b[0;34m\u001b[0m\u001b[0m\n",
            "\u001b[0;31mNameError\u001b[0m: name 'backend' is not defined"
          ]
        }
      ],
      "source": [
        "# # Running on a real hardware\n",
        "# from qiskit_ibm_runtime import SamplerV2 as Sampler\n",
        "\n",
        "# sampler = Sampler(mode=backend)"
      ]
    },
    {
      "cell_type": "markdown",
      "id": "7c20a639-0d98-4486-b1aa-87a274c6818d",
      "metadata": {
        "id": "7c20a639-0d98-4486-b1aa-87a274c6818d"
      },
      "source": [
        "Create training circutis and submit job"
      ]
    },
    {
      "cell_type": "code",
      "execution_count": 56,
      "id": "dedeae53-784d-454c-a717-66fbe1ce9fb6",
      "metadata": {
        "id": "dedeae53-784d-454c-a717-66fbe1ce9fb6"
      },
      "outputs": [],
      "source": [
        "training_overlap_circ_list = create_training_overlap_circuit_list(train_size, X_train, fm)\n",
        "job_training = sampler.run(training_overlap_circ_list, shots=num_shots)"
      ]
    },
    {
      "cell_type": "markdown",
      "id": "ca16972a-72b8-44ec-a7c3-d589167e102b",
      "metadata": {
        "id": "ca16972a-72b8-44ec-a7c3-d589167e102b"
      },
      "source": [
        "Create testing circuits and submit job"
      ]
    },
    {
      "cell_type": "code",
      "execution_count": 57,
      "id": "0714a88d-169e-4e4f-bc8e-3a07961db25a",
      "metadata": {
        "id": "0714a88d-169e-4e4f-bc8e-3a07961db25a"
      },
      "outputs": [],
      "source": [
        "testing_overlap_circ_list = create_testing_overlap_circuit_list(test_size, train_size, X_test, X_train, fm)\n",
        "job_testing = sampler.run(testing_overlap_circ_list, shots=num_shots)"
      ]
    },
    {
      "cell_type": "markdown",
      "id": "d5431779-be51-4279-b5ae-8822c680c9e0",
      "metadata": {
        "id": "d5431779-be51-4279-b5ae-8822c680c9e0"
      },
      "source": [
        "Compute training kernel matrix"
      ]
    },
    {
      "cell_type": "code",
      "execution_count": 58,
      "id": "1273d712-2b88-4763-be66-55b935526305",
      "metadata": {
        "id": "1273d712-2b88-4763-be66-55b935526305",
        "outputId": "03cbacb2-8689-4b81-cbf1-62de5642651c",
        "colab": {
          "base_uri": "https://localhost:8080/"
        }
      },
      "outputs": [
        {
          "output_type": "stream",
          "name": "stdout",
          "text": [
            "Training matrix done\n"
          ]
        }
      ],
      "source": [
        "results_training = job_training.result()\n",
        "kernel_matrix = compute_overlap_matrix(results_training, train_size, train_size, is_symmetric=True)\n",
        "print(\"Training matrix done\")"
      ]
    },
    {
      "cell_type": "markdown",
      "id": "47f67ec9-4d02-4f54-a66b-690487856dd7",
      "metadata": {
        "id": "47f67ec9-4d02-4f54-a66b-690487856dd7"
      },
      "source": [
        "Compute test matrix"
      ]
    },
    {
      "cell_type": "code",
      "execution_count": null,
      "id": "48ed1fa0-ddaa-4e32-a124-af7c45d536a2",
      "metadata": {
        "id": "48ed1fa0-ddaa-4e32-a124-af7c45d536a2",
        "outputId": "86f01498-b13d-4ea7-c004-ae03eb68038b"
      },
      "outputs": [
        {
          "name": "stdout",
          "output_type": "stream",
          "text": [
            "Test matrix done\n"
          ]
        }
      ],
      "source": [
        "results_testing = job_testing.result()\n",
        "test_matrix = compute_overlap_matrix(results_testing, test_size, train_size, is_symmetric=False)\n",
        "print(\"Test matrix done\")"
      ]
    },
    {
      "cell_type": "markdown",
      "id": "55d605b3-e481-4878-bcb3-84ccdde1aa58",
      "metadata": {
        "jp-MarkdownHeadingCollapsed": true,
        "id": "55d605b3-e481-4878-bcb3-84ccdde1aa58"
      },
      "source": [
        "#### Running on real hardware"
      ]
    },
    {
      "cell_type": "code",
      "execution_count": null,
      "id": "388f381d-6879-4dfc-9c29-172dd0644cc2",
      "metadata": {
        "id": "388f381d-6879-4dfc-9c29-172dd0644cc2"
      },
      "outputs": [],
      "source": [
        "# # Running on a real hardware\n",
        "# from qiskit_ibm_runtime import SamplerV2 as Sampler\n",
        "\n",
        "# sampler = Sampler(mode=backend)"
      ]
    },
    {
      "cell_type": "markdown",
      "id": "07c55c5f-e17f-4281-850b-009c8e3e1c36",
      "metadata": {
        "id": "07c55c5f-e17f-4281-850b-009c8e3e1c36"
      },
      "source": [
        "Create training circutis and submit job"
      ]
    },
    {
      "cell_type": "code",
      "execution_count": null,
      "id": "70d9b725-cb2c-44ab-a153-fb47f483ca34",
      "metadata": {
        "id": "70d9b725-cb2c-44ab-a153-fb47f483ca34"
      },
      "outputs": [],
      "source": [
        "# training_overlap_circ_list = create_training_overlap_circuit_list(train_size, X_train, fm)\n",
        "# pm = generate_preset_pass_manager(optimization_level=2, backend=backend)\n",
        "# isa_circuit_list = [pm.run(circuit) for circuit in training_overlap_circ_list]"
      ]
    },
    {
      "cell_type": "code",
      "execution_count": null,
      "id": "09b4de54-6e0b-44c3-b5cd-96715292999d",
      "metadata": {
        "id": "09b4de54-6e0b-44c3-b5cd-96715292999d"
      },
      "outputs": [],
      "source": [
        "# job_training = sampler.run(isa_circuit_list, shots=num_shots)"
      ]
    },
    {
      "cell_type": "markdown",
      "id": "3d5266bb-4a7a-42f5-a43c-e6f22e17fa22",
      "metadata": {
        "id": "3d5266bb-4a7a-42f5-a43c-e6f22e17fa22"
      },
      "source": [
        "Create testing circuits and submit job"
      ]
    },
    {
      "cell_type": "code",
      "execution_count": null,
      "id": "d6755213-5c22-41f9-9cf9-83916363f6d0",
      "metadata": {
        "id": "d6755213-5c22-41f9-9cf9-83916363f6d0"
      },
      "outputs": [],
      "source": [
        "# testing_overlap_circ_list = create_testing_overlap_circuit_list(test_size, train_size, X_test, X_train, fm)\n",
        "# isa_circuit_list = [pm.run(circuit) for circuit in testing_overlap_circ_list]"
      ]
    },
    {
      "cell_type": "code",
      "execution_count": null,
      "id": "948efa92-f5ae-491f-814a-b339e5221004",
      "metadata": {
        "id": "948efa92-f5ae-491f-814a-b339e5221004"
      },
      "outputs": [],
      "source": [
        "# job_testing = sampler.run(isa_circuit_list, shots=num_shots)"
      ]
    },
    {
      "cell_type": "markdown",
      "id": "b516cede-be09-4549-ae94-1f63b7c39318",
      "metadata": {
        "id": "b516cede-be09-4549-ae94-1f63b7c39318"
      },
      "source": [
        "Compute training kernel matrix"
      ]
    },
    {
      "cell_type": "code",
      "execution_count": null,
      "id": "788b7551-6c39-4c57-97c3-cc16a8d23cec",
      "metadata": {
        "id": "788b7551-6c39-4c57-97c3-cc16a8d23cec"
      },
      "outputs": [],
      "source": [
        "# results_training = job_training.result()\n",
        "# kernel_matrix = compute_overlap_matrix(results_training, train_size, train_size, is_symmetric=True)\n",
        "# print(\"Training matrix done\")"
      ]
    },
    {
      "cell_type": "markdown",
      "id": "b5ca9747-2b85-48c7-861d-ea6909120ba0",
      "metadata": {
        "id": "b5ca9747-2b85-48c7-861d-ea6909120ba0"
      },
      "source": [
        "Compute test matrix"
      ]
    },
    {
      "cell_type": "code",
      "execution_count": null,
      "id": "a1feb0c4-dfff-410a-921f-3d114ddb210a",
      "metadata": {
        "id": "a1feb0c4-dfff-410a-921f-3d114ddb210a"
      },
      "outputs": [],
      "source": [
        "# results_testing = job_testing.result()\n",
        "# test_matrix = compute_overlap_matrix(results_testing, test_size, train_size, is_symmetric=False)\n",
        "# print(\"Test matrix done\")"
      ]
    },
    {
      "cell_type": "markdown",
      "id": "bff76fa2-7e47-4e8c-bd41-8b4eb8eeccc3",
      "metadata": {
        "id": "bff76fa2-7e47-4e8c-bd41-8b4eb8eeccc3"
      },
      "source": [
        "### Step 4: Post-process, return result in classical format"
      ]
    },
    {
      "cell_type": "code",
      "execution_count": null,
      "id": "9190fedd-55fc-4ccd-81f7-63cb1a5dd6bf",
      "metadata": {
        "id": "9190fedd-55fc-4ccd-81f7-63cb1a5dd6bf"
      },
      "outputs": [],
      "source": [
        "# import a support vector classifier from a classical ML package.\n",
        "from sklearn.svm import SVC\n",
        "\n",
        "#Specify that you want to use a pre-computed kernel matrix\n",
        "qml_svc = SVC(kernel=\"precomputed\")"
      ]
    },
    {
      "cell_type": "code",
      "execution_count": null,
      "id": "1ac38e0f-4799-49e1-9c46-200414dfadf3",
      "metadata": {
        "id": "1ac38e0f-4799-49e1-9c46-200414dfadf3",
        "outputId": "4cbc3e21-df5d-45ad-aada-5e5fbf5dd73d"
      },
      "outputs": [
        {
          "data": {
            "text/html": [
              "<style>#sk-container-id-1 {color: black;background-color: white;}#sk-container-id-1 pre{padding: 0;}#sk-container-id-1 div.sk-toggleable {background-color: white;}#sk-container-id-1 label.sk-toggleable__label {cursor: pointer;display: block;width: 100%;margin-bottom: 0;padding: 0.3em;box-sizing: border-box;text-align: center;}#sk-container-id-1 label.sk-toggleable__label-arrow:before {content: \"▸\";float: left;margin-right: 0.25em;color: #696969;}#sk-container-id-1 label.sk-toggleable__label-arrow:hover:before {color: black;}#sk-container-id-1 div.sk-estimator:hover label.sk-toggleable__label-arrow:before {color: black;}#sk-container-id-1 div.sk-toggleable__content {max-height: 0;max-width: 0;overflow: hidden;text-align: left;background-color: #f0f8ff;}#sk-container-id-1 div.sk-toggleable__content pre {margin: 0.2em;color: black;border-radius: 0.25em;background-color: #f0f8ff;}#sk-container-id-1 input.sk-toggleable__control:checked~div.sk-toggleable__content {max-height: 200px;max-width: 100%;overflow: auto;}#sk-container-id-1 input.sk-toggleable__control:checked~label.sk-toggleable__label-arrow:before {content: \"▾\";}#sk-container-id-1 div.sk-estimator input.sk-toggleable__control:checked~label.sk-toggleable__label {background-color: #d4ebff;}#sk-container-id-1 div.sk-label input.sk-toggleable__control:checked~label.sk-toggleable__label {background-color: #d4ebff;}#sk-container-id-1 input.sk-hidden--visually {border: 0;clip: rect(1px 1px 1px 1px);clip: rect(1px, 1px, 1px, 1px);height: 1px;margin: -1px;overflow: hidden;padding: 0;position: absolute;width: 1px;}#sk-container-id-1 div.sk-estimator {font-family: monospace;background-color: #f0f8ff;border: 1px dotted black;border-radius: 0.25em;box-sizing: border-box;margin-bottom: 0.5em;}#sk-container-id-1 div.sk-estimator:hover {background-color: #d4ebff;}#sk-container-id-1 div.sk-parallel-item::after {content: \"\";width: 100%;border-bottom: 1px solid gray;flex-grow: 1;}#sk-container-id-1 div.sk-label:hover label.sk-toggleable__label {background-color: #d4ebff;}#sk-container-id-1 div.sk-serial::before {content: \"\";position: absolute;border-left: 1px solid gray;box-sizing: border-box;top: 0;bottom: 0;left: 50%;z-index: 0;}#sk-container-id-1 div.sk-serial {display: flex;flex-direction: column;align-items: center;background-color: white;padding-right: 0.2em;padding-left: 0.2em;position: relative;}#sk-container-id-1 div.sk-item {position: relative;z-index: 1;}#sk-container-id-1 div.sk-parallel {display: flex;align-items: stretch;justify-content: center;background-color: white;position: relative;}#sk-container-id-1 div.sk-item::before, #sk-container-id-1 div.sk-parallel-item::before {content: \"\";position: absolute;border-left: 1px solid gray;box-sizing: border-box;top: 0;bottom: 0;left: 50%;z-index: -1;}#sk-container-id-1 div.sk-parallel-item {display: flex;flex-direction: column;z-index: 1;position: relative;background-color: white;}#sk-container-id-1 div.sk-parallel-item:first-child::after {align-self: flex-end;width: 50%;}#sk-container-id-1 div.sk-parallel-item:last-child::after {align-self: flex-start;width: 50%;}#sk-container-id-1 div.sk-parallel-item:only-child::after {width: 0;}#sk-container-id-1 div.sk-dashed-wrapped {border: 1px dashed gray;margin: 0 0.4em 0.5em 0.4em;box-sizing: border-box;padding-bottom: 0.4em;background-color: white;}#sk-container-id-1 div.sk-label label {font-family: monospace;font-weight: bold;display: inline-block;line-height: 1.2em;}#sk-container-id-1 div.sk-label-container {text-align: center;}#sk-container-id-1 div.sk-container {/* jupyter's `normalize.less` sets `[hidden] { display: none; }` but bootstrap.min.css set `[hidden] { display: none !important; }` so we also need the `!important` here to be able to override the default hidden behavior on the sphinx rendered scikit-learn.org. See: https://github.com/scikit-learn/scikit-learn/issues/21755 */display: inline-block !important;position: relative;}#sk-container-id-1 div.sk-text-repr-fallback {display: none;}</style><div id=\"sk-container-id-1\" class=\"sk-top-container\"><div class=\"sk-text-repr-fallback\"><pre>SVC(kernel=&#x27;precomputed&#x27;)</pre><b>In a Jupyter environment, please rerun this cell to show the HTML representation or trust the notebook. <br />On GitHub, the HTML representation is unable to render, please try loading this page with nbviewer.org.</b></div><div class=\"sk-container\" hidden><div class=\"sk-item\"><div class=\"sk-estimator sk-toggleable\"><input class=\"sk-toggleable__control sk-hidden--visually\" id=\"sk-estimator-id-1\" type=\"checkbox\" checked><label for=\"sk-estimator-id-1\" class=\"sk-toggleable__label sk-toggleable__label-arrow\">SVC</label><div class=\"sk-toggleable__content\"><pre>SVC(kernel=&#x27;precomputed&#x27;)</pre></div></div></div></div></div>"
            ],
            "text/plain": [
              "SVC(kernel='precomputed')"
            ]
          },
          "execution_count": 39,
          "metadata": {},
          "output_type": "execute_result"
        }
      ],
      "source": [
        "# Feed in the pre-computed matrix and the labels of the training data. The classical algorithm gives you a fit.\n",
        "qml_svc.fit(kernel_matrix, train_labels)"
      ]
    },
    {
      "cell_type": "code",
      "execution_count": null,
      "id": "64dc6d91-3f13-4f3e-84dc-eff56edc439f",
      "metadata": {
        "id": "64dc6d91-3f13-4f3e-84dc-eff56edc439f",
        "outputId": "1b265286-9bea-45ec-b3ac-173f83080848"
      },
      "outputs": [
        {
          "data": {
            "text/plain": [
              "array([ 1., -1.,  1., -1.,  1., -1.,  1., -1.,  1., -1.])"
            ]
          },
          "execution_count": 40,
          "metadata": {},
          "output_type": "execute_result"
        }
      ],
      "source": [
        "qml_svc.predict(test_matrix)"
      ]
    },
    {
      "cell_type": "code",
      "execution_count": null,
      "id": "13de604a-d48e-410d-a22e-55f6167b5006",
      "metadata": {
        "id": "13de604a-d48e-410d-a22e-55f6167b5006",
        "outputId": "36e5e611-9d72-46d3-a56c-679069e73bb4"
      },
      "outputs": [
        {
          "data": {
            "text/plain": [
              "array([ 1., -1.,  1., -1.,  1., -1.,  1., -1.,  1., -1.])"
            ]
          },
          "execution_count": 41,
          "metadata": {},
          "output_type": "execute_result"
        }
      ],
      "source": [
        "test_labels"
      ]
    },
    {
      "cell_type": "code",
      "execution_count": null,
      "id": "e84196e5-ba75-42e8-89b6-fb5ee81d347a",
      "metadata": {
        "id": "e84196e5-ba75-42e8-89b6-fb5ee81d347a",
        "outputId": "16878f99-f3e3-4f4d-dcbf-c8007f7242d8"
      },
      "outputs": [
        {
          "name": "stdout",
          "output_type": "stream",
          "text": [
            "Precomputed kernel classification test score: 1.0\n"
          ]
        }
      ],
      "source": [
        "# Now use the .score to test your data, using the matrix of test data, and test labels as your inputs.\n",
        "qml_score_precomputed_kernel = qml_svc.score(test_matrix, test_labels)\n",
        "print(f\"Precomputed kernel classification test score: {qml_score_precomputed_kernel}\")"
      ]
    },
    {
      "cell_type": "markdown",
      "id": "108edbec-2692-44ff-8f19-203ca3bddf16",
      "metadata": {
        "id": "108edbec-2692-44ff-8f19-203ca3bddf16"
      },
      "source": [
        "## Further reading\n",
        "\n",
        "If you want to learn more about Quantum Machine Learning, check out [the QML course](https://learning.quantum.ibm.com/course/quantum-machine-learning) on IBM Quantum Learning platform."
      ]
    },
    {
      "cell_type": "markdown",
      "id": "603a7297-0119-457e-85ed-3f609bf6bd6e",
      "metadata": {
        "id": "603a7297-0119-457e-85ed-3f609bf6bd6e"
      },
      "source": [
        "### Step 1: Map classical inputs to a quantum problem"
      ]
    },
    {
      "cell_type": "code",
      "execution_count": null,
      "id": "676ac14f-a053-4282-8f3b-d59aa724da61",
      "metadata": {
        "id": "676ac14f-a053-4282-8f3b-d59aa724da61"
      },
      "outputs": [],
      "source": [
        "#Two mock data points, including category labels, as in training\n",
        "\n",
        "large_data = [\n",
        "    [-0.028,\t-1.49,\t-1.698,\t0.107,\t-1.536,\t-1.538,\t-1.356,\t-1.514,\t-0.109,\t-1.8,\t-0.122,\t-1.651,\t-1.955,\t-0.123,\t-1.732,\t0.091,\t-0.048,\t-0.128,\t-0.026,\t0.082,\t-1.263,\t0.065,\t0.004,\t-0.055,\t-0.08,\t-0.173,\t-1.734,\t-0.39,\t-1.451,\t0.078,\t-1.578,\t-0.025,\t-0.184,\t-0.119,\t-1.336,\t0.055,\t-0.204,\t-1.578,\t0.132,\t-0.121,\t-1.599,\t-0.187,-1],\n",
        "    [-1.414,\t-1.439,\t-1.606,\t0.246,\t-1.673,\t0.002,\t-1.317,\t-1.262,\t-0.178,\t-1.814,\t0.013,\t-1.619,\t-1.86,\t-0.25,\t-0.212,\t-0.214,\t-0.033,\t0.071,\t-0.11,\t-1.607,\t0.441,\t-0.143,\t-0.009,\t-1.655,\t-1.579,\t0.381,\t-1.86,\t-0.079,\t-0.088,\t-0.058,\t-1.481,\t-0.064,\t-0.065,\t-1.507,\t0.177,\t-0.131,\t-0.153,\t0.07,\t-1.627,\t0.593,\t-1.547,\t-0.16,-1]\n",
        "]\n",
        "train_data = [large_data[0][:-1],large_data[1][:-1]]"
      ]
    },
    {
      "cell_type": "code",
      "execution_count": null,
      "id": "38d7e650-7516-49f2-a984-2713ccfb3f54",
      "metadata": {
        "id": "38d7e650-7516-49f2-a984-2713ccfb3f54"
      },
      "outputs": [],
      "source": [
        "from qiskit.circuit.library import ZZFeatureMap\n",
        "\n",
        "fm = ZZFeatureMap(feature_dimension=np.shape(train_data)[1], entanglement='linear', reps=1)\n",
        "\n",
        "unitary1 = fm.assign_parameters(train_data[0])\n",
        "unitary2 = fm.assign_parameters(train_data[1])"
      ]
    },
    {
      "cell_type": "code",
      "execution_count": null,
      "id": "48f81bec-045f-45b8-99c7-2f81a22a2a5f",
      "metadata": {
        "id": "48f81bec-045f-45b8-99c7-2f81a22a2a5f",
        "outputId": "b7d93297-d6fa-40bc-88f6-c95dd089946d"
      },
      "outputs": [
        {
          "name": "stdout",
          "output_type": "stream",
          "text": [
            "circuit depth =  251\n",
            "two-qubit depth 165\n"
          ]
        }
      ],
      "source": [
        "from qiskit.circuit.library import UnitaryOverlap\n",
        "\n",
        "overlap_circ = UnitaryOverlap(unitary1, unitary2)\n",
        "overlap_circ.measure_all()\n",
        "\n",
        "print(\"circuit depth = \", overlap_circ.decompose(reps = 2).depth())\n",
        "print(\"two-qubit depth\", overlap_circ.decompose().depth(lambda instr: len(instr.qubits) > 1))\n",
        "#overlap_circ.draw(\"mpl\", scale=0.6, style=\"iqp\")"
      ]
    },
    {
      "cell_type": "code",
      "execution_count": null,
      "id": "300fdd96-4c2b-4724-952d-9b5d4e4474be",
      "metadata": {
        "id": "300fdd96-4c2b-4724-952d-9b5d4e4474be"
      },
      "outputs": [],
      "source": [
        "from qiskit.circuit import Parameter, ParameterVector, QuantumCircuit\n",
        "\n",
        "# Prepare feature map for computing overlap\n",
        "\n",
        "entangler_map = [    [3, 4], [2, 5], [1, 4], [2, 3], [4, 6], [7, 9], [10, 11], [9, 12], [8, 11], [9, 10], [11, 13], [14, 16], [17, 18], [16, 19], [15, 18], [16, 17], [18, 20]\n",
        "]"
      ]
    },
    {
      "cell_type": "code",
      "execution_count": null,
      "id": "1e822549-8ca6-4574-8c70-051f5c2d3061",
      "metadata": {
        "id": "1e822549-8ca6-4574-8c70-051f5c2d3061"
      },
      "outputs": [],
      "source": [
        "#Use the entangler map above to build a feature map\n",
        "\n",
        "num_features = np.shape(train_data)[1]\n",
        "num_qubits = int(num_features / 2)\n",
        "\n",
        "fm = QuantumCircuit(num_qubits)\n",
        "training_param = Parameter(\"θ\")\n",
        "feature_params = ParameterVector(\"x\", num_qubits * 2)\n",
        "fm.ry(training_param, fm.qubits)\n",
        "for cz in entangler_map:\n",
        "    fm.cz(cz[0], cz[1])\n",
        "for i in range(num_qubits):\n",
        "    fm.rz(-2 * feature_params[2 * i + 1], i)\n",
        "    fm.rx(-2 * feature_params[2 * i], i)"
      ]
    },
    {
      "cell_type": "code",
      "execution_count": null,
      "id": "f19ed09b-1f0a-4fdd-8aee-a23afd07958b",
      "metadata": {
        "id": "f19ed09b-1f0a-4fdd-8aee-a23afd07958b"
      },
      "outputs": [],
      "source": [
        "# Assign features of each data point to a unitary, an instance of the general feature map.\n",
        "\n",
        "unitary1 = fm.assign_parameters(list(train_data[0])+ [np.pi / 2] )\n",
        "unitary2 = fm.assign_parameters(list(train_data[1])+ [np.pi / 2] )\n",
        "\n",
        "from qiskit.circuit.library import UnitaryOverlap\n",
        "\n",
        "# Create the overlap circuit\n",
        "overlap_circ = UnitaryOverlap(unitary1, unitary2)\n",
        "overlap_circ.measure_all()"
      ]
    },
    {
      "cell_type": "markdown",
      "id": "a91d9c6b-2801-4e38-9440-9f7babb40406",
      "metadata": {
        "id": "a91d9c6b-2801-4e38-9440-9f7babb40406"
      },
      "source": [
        "### Step 2: Optimize problem for quantum execution"
      ]
    },
    {
      "cell_type": "code",
      "execution_count": null,
      "id": "72472ef9-c448-43fb-8550-26edcfcdb89e",
      "metadata": {
        "id": "72472ef9-c448-43fb-8550-26edcfcdb89e",
        "outputId": "3bcb486f-92d0-4723-db94-b37c4dafcfed"
      },
      "outputs": [
        {
          "name": "stdout",
          "output_type": "stream",
          "text": [
            "<IBMBackend('ibm_cusco')>\n"
          ]
        }
      ],
      "source": [
        "#Import needed packages\n",
        "from qiskit.transpiler.preset_passmanagers import generate_preset_pass_manager\n",
        "from qiskit_ibm_runtime import QiskitRuntimeService\n",
        "\n",
        "# Get the least busy backend\n",
        "service = QiskitRuntimeService(channel=\"ibm_quantum\")\n",
        "backend = service.least_busy(\n",
        "    operational=True, simulator=False, min_num_qubits=fm.num_qubits\n",
        ")\n",
        "print(backend)"
      ]
    },
    {
      "cell_type": "code",
      "execution_count": null,
      "id": "7d5496e8-e57e-4c0e-a8a2-91e71697a1c4",
      "metadata": {
        "id": "7d5496e8-e57e-4c0e-a8a2-91e71697a1c4",
        "outputId": "d4a73385-ffa0-44c4-8ae0-91853b9d62ad"
      },
      "outputs": [
        {
          "name": "stdout",
          "output_type": "stream",
          "text": [
            "circuit depth =  65\n"
          ]
        }
      ],
      "source": [
        "#Apply level 3 optimization to our overlap circuit\n",
        "transpiled_qcs=[]\n",
        "transpiled_depths=[]\n",
        "transpiled_twoqubit_depths=[]\n",
        "for i in range(1,20):\n",
        "    pm = generate_preset_pass_manager(optimization_level=3, backend=backend)\n",
        "    overlap_ibm = pm.run(overlap_circ)\n",
        "    transpiled_qcs.append(overlap_ibm)\n",
        "    transpiled_depths.append(overlap_ibm.decompose().depth())\n",
        "    transpiled_twoqubit_depths.append(overlap_ibm.decompose().depth(lambda instr: len(instr.qubits) > 1))\n",
        "\n",
        "print(\"circuit depth = \", overlap_ibm.decompose().depth())"
      ]
    },
    {
      "cell_type": "code",
      "execution_count": null,
      "id": "cad7f299-591c-47ad-b2aa-9a3b8b906a85",
      "metadata": {
        "id": "cad7f299-591c-47ad-b2aa-9a3b8b906a85",
        "outputId": "cce911ec-f777-45e5-fa61-ec101e14cfd3"
      },
      "outputs": [
        {
          "name": "stdout",
          "output_type": "stream",
          "text": [
            "[65, 65, 65, 65, 65, 65, 65, 65, 65, 65, 65, 65, 65, 65, 65, 65, 65, 65, 65]\n",
            "[13, 13, 13, 13, 13, 13, 13, 13, 13, 13, 13, 13, 13, 13, 13, 13, 13, 13, 13]\n"
          ]
        }
      ],
      "source": [
        "print(transpiled_depths)\n",
        "print(transpiled_twoqubit_depths)"
      ]
    },
    {
      "cell_type": "code",
      "execution_count": null,
      "id": "ed970564-8423-4726-9f52-de67ada23259",
      "metadata": {
        "id": "ed970564-8423-4726-9f52-de67ada23259"
      },
      "outputs": [],
      "source": [
        "overlap_ibm = transpiled_qcs[1]"
      ]
    },
    {
      "cell_type": "markdown",
      "id": "31884309-85b5-41dc-a340-347260d4da08",
      "metadata": {
        "id": "31884309-85b5-41dc-a340-347260d4da08"
      },
      "source": [
        "### Step 3: Execute using Qiskit Runtime Primitives"
      ]
    },
    {
      "cell_type": "code",
      "execution_count": null,
      "id": "b95241d7-07d0-48ff-bb6e-90d375698662",
      "metadata": {
        "id": "b95241d7-07d0-48ff-bb6e-90d375698662"
      },
      "outputs": [],
      "source": [
        "#Run on ibm_osaka, 7-12-24, required 22 sec.\n",
        "\n",
        "#Import our runtime primitive\n",
        "from qiskit_ibm_runtime import Session, SamplerV2 as Sampler\n",
        "\n",
        "#Open a Runtime session:\n",
        "session = Session(backend=backend)\n",
        "num_shots = 10000\n",
        "# Use sampler and get the counts\n",
        "\n",
        "sampler = Sampler(mode=session)\n",
        "options = sampler.options\n",
        "options.dynamical_decoupling.enable = True\n",
        "options.twirling.enable_gates = True\n",
        "counts = (\n",
        "        sampler.run([overlap_ibm], shots=num_shots).result()[0].data.meas.get_int_counts()\n",
        "        )\n",
        "\n",
        "# Close session after done\n",
        "session.close()"
      ]
    },
    {
      "cell_type": "markdown",
      "id": "7f3a1507-f790-49da-8f7e-2eacd4e19527",
      "metadata": {
        "id": "7f3a1507-f790-49da-8f7e-2eacd4e19527"
      },
      "source": [
        "### Step 4: Post-process, return result in classical format"
      ]
    },
    {
      "cell_type": "code",
      "execution_count": null,
      "id": "405236b2-581b-4cb6-ae1f-77bb79daa3b4",
      "metadata": {
        "id": "405236b2-581b-4cb6-ae1f-77bb79daa3b4",
        "outputId": "4759d15d-aa9a-4566-be30-e827e7b5b594"
      },
      "outputs": [
        {
          "data": {
            "text/plain": [
              "0.0026"
            ]
          },
          "execution_count": 54,
          "metadata": {},
          "output_type": "execute_result"
        }
      ],
      "source": [
        "counts.get(0, 0.0)/num_shots"
      ]
    },
    {
      "cell_type": "code",
      "execution_count": null,
      "id": "0430485d-b06d-4ae5-8a8d-782bb226ec92",
      "metadata": {
        "id": "0430485d-b06d-4ae5-8a8d-782bb226ec92"
      },
      "outputs": [],
      "source": []
    }
  ],
  "metadata": {
    "kernelspec": {
      "display_name": "Python 3 (ipykernel)",
      "language": "python",
      "name": "python3"
    },
    "language_info": {
      "codemirror_mode": {
        "name": "ipython",
        "version": 3
      },
      "file_extension": ".py",
      "mimetype": "text/x-python",
      "name": "python",
      "nbconvert_exporter": "python",
      "pygments_lexer": "ipython3",
      "version": "3.10.15"
    },
    "colab": {
      "provenance": []
    }
  },
  "nbformat": 4,
  "nbformat_minor": 5
}